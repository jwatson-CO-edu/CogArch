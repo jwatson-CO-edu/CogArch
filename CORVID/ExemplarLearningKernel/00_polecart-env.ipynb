{
 "cells": [
  {
   "cell_type": "code",
   "execution_count": 1,
   "id": "32906d00-9376-435c-a6b1-1f5b451e9e30",
   "metadata": {},
   "outputs": [],
   "source": [
    "## plays 1000 games to find the avg time the we survive the game\n",
    "\n",
    "import gym\n",
    "from gym import wrappers\n",
    "import numpy as np"
   ]
  },
  {
   "cell_type": "code",
   "execution_count": 2,
   "id": "79351717-3003-4399-b35b-1876d5d29196",
   "metadata": {},
   "outputs": [],
   "source": [
    "_OBS_DIM = 4\n",
    "_ACT_DIM = 1\n",
    "_BIGNUM  = 1e5\n",
    "\n",
    "EPISODES = 10000\n",
    "avg_time = 0\n",
    "max_time = -1\n",
    "env      = gym.make( 'CartPole-v1' ).env\n",
    "env      = wrappers.RecordEpisodeStatistics( env, 100 )\n",
    "obsBox   = np.array( [ [ _BIGNUM for i in range( _OBS_DIM )] , \n",
    "                       [-_BIGNUM for i in range( _OBS_DIM )] ] )"
   ]
  },
  {
   "cell_type": "code",
   "execution_count": 4,
   "id": "c59bf639-f8e2-4f35-8323-b8ca92c3a5d6",
   "metadata": {},
   "outputs": [
    {
     "name": "stdout",
     "output_type": "stream",
     "text": [
      "avg time network survives : __  21.33242993\n",
      "bounding box of observations :  [[-1.75912619 -3.16601825 -0.2655172  -3.6118238 ]\n",
      " [ 1.62689734  3.09403539  0.26890457  3.32645941]]\n"
     ]
    }
   ],
   "source": [
    "for i_episode in range(EPISODES):\n",
    "    # instansiating the environment\n",
    "    observation = env.reset()\n",
    "    for t in range( EPISODES ):\n",
    "        # uncomment this is you want to see the rendering \n",
    "        #env.render()\n",
    "        action = env.action_space.sample()\n",
    "        # observation, reward, done, info = env.step( action )\n",
    "        obs, reward, terminated, truncated, info = env.step( action )\n",
    "        \n",
    "        for i in range( _OBS_DIM ):\n",
    "            if obsBox[0,i] > obs[i]:\n",
    "                obsBox[0,i] = obs[i]\n",
    "            if obsBox[1,i] < obs[i]:\n",
    "                obsBox[1,i] = obs[i]\n",
    "        # break\n",
    "        if terminated:\n",
    "            avg_time = avg_time + t\n",
    "            if t > max_time:\n",
    "                max_time = t\n",
    "                # print( max_time )\n",
    "            #print(\"Episode finished after {} timesteps\".format(t+1))\n",
    "            break\n",
    "    # resetting the enviroment\n",
    "    env.reset()\n",
    "        \n",
    "\n",
    "# printing the avg time the game lasted\n",
    "avg_time = avg_time/EPISODES\n",
    "print( 'avg time network survives : __ ', avg_time )\n",
    "print( 'bounding box of observations : ', obsBox   )\n"
   ]
  },
  {
   "cell_type": "code",
   "execution_count": null,
   "id": "51b56e10-ef17-4d1b-8d92-750d781e1aba",
   "metadata": {},
   "outputs": [],
   "source": []
  }
 ],
 "metadata": {
  "kernelspec": {
   "display_name": "Python 3 (ipykernel)",
   "language": "python",
   "name": "python3"
  },
  "language_info": {
   "codemirror_mode": {
    "name": "ipython",
    "version": 3
   },
   "file_extension": ".py",
   "mimetype": "text/x-python",
   "name": "python",
   "nbconvert_exporter": "python",
   "pygments_lexer": "ipython3",
   "version": "3.9.18"
  }
 },
 "nbformat": 4,
 "nbformat_minor": 5
}
