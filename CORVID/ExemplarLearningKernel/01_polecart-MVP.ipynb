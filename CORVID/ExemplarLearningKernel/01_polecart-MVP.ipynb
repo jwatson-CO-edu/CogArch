{
 "cells": [
  {
   "cell_type": "markdown",
   "id": "609fdba4-6834-43eb-a744-e883fc5765c5",
   "metadata": {},
   "source": [
    "# Init"
   ]
  },
  {
   "cell_type": "code",
   "execution_count": 2,
   "id": "7ea4e769-5560-422b-9bbe-8acf3a32f232",
   "metadata": {},
   "outputs": [],
   "source": [
    "import gym\n",
    "from gym import wrappers\n",
    "\n",
    "import numpy as np\n",
    "from scipy.spatial import KDTree"
   ]
  },
  {
   "cell_type": "markdown",
   "id": "f9310531-9f36-4009-a47e-696f0526cb21",
   "metadata": {},
   "source": [
    "# Env Settings"
   ]
  },
  {
   "cell_type": "code",
   "execution_count": 4,
   "id": "31e90cf5-5420-4625-8ecd-bf57f02e5fe1",
   "metadata": {},
   "outputs": [],
   "source": [
    "_OBS_DIM = 4\n",
    "_ACT_DIM = 1"
   ]
  },
  {
   "cell_type": "markdown",
   "id": "5b185bb3-132d-42ec-ab6a-e159071de80b",
   "metadata": {},
   "source": [
    "# Minimum Viable Components"
   ]
  },
  {
   "cell_type": "code",
   "execution_count": 5,
   "id": "6f07e7b1-d3a9-4a16-961a-b44f884a688e",
   "metadata": {},
   "outputs": [],
   "source": [
    "N   = 0 # ---------------------- Number of exemplars\n",
    "F   = np.zeros( (N,_OBS_DIM) ) # Approximating function\n",
    "V   = np.zeros( (N,) ) # ------- Action values\n",
    "A   = np.zeros( (N,_ACT_DIM) ) # Actions (Output)\n",
    "KDT = None # ------------------- Spatial tree\n",
    "eps = 1.0 # -------------------- Exploration probability\n",
    "rad = 0.125 # ------------------ Minimum distance between exemplars (Overwrite radius)"
   ]
  },
  {
   "cell_type": "code",
   "execution_count": null,
   "id": "e0951ea1-1d07-4ac7-9d7f-df0a75e4acd0",
   "metadata": {},
   "outputs": [],
   "source": []
  },
  {
   "cell_type": "code",
   "execution_count": null,
   "id": "db40eac2-0d2d-44f8-bd41-d32f792fd760",
   "metadata": {},
   "outputs": [],
   "source": []
  },
  {
   "cell_type": "code",
   "execution_count": null,
   "id": "ade65299-9291-435b-90db-626462528630",
   "metadata": {},
   "outputs": [],
   "source": []
  }
 ],
 "metadata": {
  "kernelspec": {
   "display_name": "Python 3 (ipykernel)",
   "language": "python",
   "name": "python3"
  },
  "language_info": {
   "codemirror_mode": {
    "name": "ipython",
    "version": 3
   },
   "file_extension": ".py",
   "mimetype": "text/x-python",
   "name": "python",
   "nbconvert_exporter": "python",
   "pygments_lexer": "ipython3",
   "version": "3.9.18"
  }
 },
 "nbformat": 4,
 "nbformat_minor": 5
}
