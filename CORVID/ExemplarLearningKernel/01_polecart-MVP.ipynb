{
 "cells": [
  {
   "cell_type": "markdown",
   "id": "609fdba4-6834-43eb-a744-e883fc5765c5",
   "metadata": {},
   "source": [
    "# Init"
   ]
  },
  {
   "cell_type": "code",
   "execution_count": 2,
   "id": "7ea4e769-5560-422b-9bbe-8acf3a32f232",
   "metadata": {},
   "outputs": [],
   "source": [
    "import gym\n",
    "from gym import wrappers\n",
    "\n",
    "import numpy as np\n",
    "from scipy.spatial import KDTree"
   ]
  },
  {
   "cell_type": "markdown",
   "id": "f9310531-9f36-4009-a47e-696f0526cb21",
   "metadata": {},
   "source": [
    "# Env Settings"
   ]
  },
  {
   "cell_type": "code",
   "execution_count": 4,
   "id": "31e90cf5-5420-4625-8ecd-bf57f02e5fe1",
   "metadata": {},
   "outputs": [],
   "source": [
    "_OBS_DIM = 4\n",
    "_ACT_DIM = 1\n",
    "_BIGNUM  = 1e5"
   ]
  },
  {
   "cell_type": "markdown",
   "id": "5b185bb3-132d-42ec-ab6a-e159071de80b",
   "metadata": {},
   "source": [
    "# Minimum Viable Components"
   ]
  },
  {
   "cell_type": "code",
   "execution_count": 5,
   "id": "6f07e7b1-d3a9-4a16-961a-b44f884a688e",
   "metadata": {},
   "outputs": [],
   "source": [
    "K    = 3 # ---------------------- Number of neighbors to query\n",
    "N    = 0 # ---------------------- Number of exemplars\n",
    "F    = np.zeros( (N,_OBS_DIM) ) # Approximating function\n",
    "V    = np.zeros( (N,) ) # ------- Action values\n",
    "A    = np.zeros( (N,_ACT_DIM) ) # Actions (Output)\n",
    "KDT  = None # ------------------- Spatial tree\n",
    "eps  = 1.0 # -------------------- Exploration probability\n",
    "rad  = 0.125 # ------------------ Minimum distance between exemplars (Overwrite radius)\n",
    "vMar = 0.10 # ------------------- Allowed margin on value estimates"
   ]
  },
  {
   "cell_type": "code",
   "execution_count": null,
   "id": "4b83e762-42ad-4edf-9780-ed1372bd3e64",
   "metadata": {},
   "outputs": [],
   "source": [
    "def points_from_indices( pnts, ndcs ):\n",
    "    \"\"\" Get the subset of `pnts` designated by `ndcs` \"\"\"\n",
    "    N = len( ndcs )\n",
    "    P = np.zeros( (N,pnts.shape[1],) )\n",
    "    for i, idx in enumerate( ndcs ):\n",
    "        P[i,:] = pnts[idx,:]\n",
    "    return P"
   ]
  },
  {
   "cell_type": "code",
   "execution_count": null,
   "id": "e0951ea1-1d07-4ac7-9d7f-df0a75e4acd0",
   "metadata": {},
   "outputs": [],
   "source": [
    "def add_particle( state, action, value, getTree = False ):\n",
    "    \"\"\" Add a new particle to the value function \"\"\"\n",
    "    N += 1\n",
    "    F = np.vstack( (F,state, ) )\n",
    "    V = V.append( value )\n",
    "    A = np.vstack( (A,action,) )\n",
    "    if getTree:\n",
    "        return N, KDTree( F )\n",
    "    else:\n",
    "        return N, None\n",
    "        \n",
    "\n",
    "def recalc_spatial_tree():\n",
    "    \"\"\" Recalculate spatial tree \"\"\"\n",
    "    KDT = KDTree( F )\n",
    "\n",
    "    \n",
    "def get_action_and_value_inv_dist( state ):\n",
    "    \"\"\" Estimate the current optimal action and value for the state \"\"\"\n",
    "    if N < 1:\n",
    "        return None, None\n",
    "    dists, indcs = KDT.query( state, K )\n",
    "    fractV = []\n",
    "    indcsV = []\n",
    "    for i, d in enumerate( dists ):\n",
    "        if d < _BIGNUM:\n",
    "            fractV.append( 1.0/d )\n",
    "            indcsV.append( indcs[i] )\n",
    "    fractV = np.array( fractV )\n",
    "    normD  = np.linalg.norm( fractV )\n",
    "    fractV = fractV / normD\n",
    "    rtnAct = np.zeros( (_ACT_DIM,) )\n",
    "    rtnVal = 0.0\n",
    "    for i, frac in enumerate( fractV ):\n",
    "        idx = indcsV[i]\n",
    "        rtnAct += (F[ idx ] * frac)\n",
    "        rtnVal += (V[ idx ] * frac)\n",
    "    return rtnAct, rtnVal\n",
    "   \n",
    "\n",
    "def eval_particle( state, action, value ):\n",
    "    \n",
    "    # 0. Get our estimate of the value of this state\n",
    "    estAct, estVal = get_action_and_value_inv_dist( state )\n",
    "    \n",
    "    # 1. Find out if there is a particle there\n",
    "    ndcs = KDT.query_ball_point( F, state, rad )\n",
    "\n",
    "    # 2. If there is a particle already there and the current value is better, then update\n",
    "    if len( ndcs ) and (value > estVal):\n",
    "        index = ndcs[0]\n",
    "        # fNear = points_from_indices( F, ndcs )\n",
    "        vNear = points_from_indices( V, ndcs )\n",
    "        if vNear[0] < value:\n",
    "            A[index,:] = action\n",
    "            V[index]   = value\n",
    "        if len( ndcs ) > 1:\n",
    "            print( \"WARNING: NEARNESS CONSTRAINT VIOLATED\" )\n",
    "\n",
    "    # 3. Elif this is an open space that does NOT estimate the value well\n",
    "    elif abs(estVal - value) > abs(value * vMar):\n",
    "        add_particle( state, action, value )\n",
    "        recalc_spatial_tree()\n",
    "    # Else this is an open space that predicts the value well, No update!\n",
    "    # N. Return the current number of particles in the estimator\n",
    "    return N\n",
    "    \n",
    "            "
   ]
  },
  {
   "cell_type": "code",
   "execution_count": null,
   "id": "db40eac2-0d2d-44f8-bd41-d32f792fd760",
   "metadata": {},
   "outputs": [],
   "source": []
  },
  {
   "cell_type": "code",
   "execution_count": null,
   "id": "ade65299-9291-435b-90db-626462528630",
   "metadata": {},
   "outputs": [],
   "source": []
  }
 ],
 "metadata": {
  "kernelspec": {
   "display_name": "Python 3 (ipykernel)",
   "language": "python",
   "name": "python3"
  },
  "language_info": {
   "codemirror_mode": {
    "name": "ipython",
    "version": 3
   },
   "file_extension": ".py",
   "mimetype": "text/x-python",
   "name": "python",
   "nbconvert_exporter": "python",
   "pygments_lexer": "ipython3",
   "version": "3.9.18"
  }
 },
 "nbformat": 4,
 "nbformat_minor": 5
}
