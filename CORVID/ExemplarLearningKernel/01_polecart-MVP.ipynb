{
 "cells": [
  {
   "cell_type": "markdown",
   "id": "609fdba4-6834-43eb-a744-e883fc5765c5",
   "metadata": {},
   "source": [
    "# Init"
   ]
  },
  {
   "cell_type": "code",
   "execution_count": 1,
   "id": "7ea4e769-5560-422b-9bbe-8acf3a32f232",
   "metadata": {},
   "outputs": [],
   "source": [
    "from random import random\n",
    "\n",
    "import gym\n",
    "from gym import wrappers\n",
    "\n",
    "import numpy as np\n",
    "from scipy.spatial import KDTree"
   ]
  },
  {
   "cell_type": "markdown",
   "id": "f9310531-9f36-4009-a47e-696f0526cb21",
   "metadata": {},
   "source": [
    "# Env Settings"
   ]
  },
  {
   "cell_type": "code",
   "execution_count": 2,
   "id": "31e90cf5-5420-4625-8ecd-bf57f02e5fe1",
   "metadata": {},
   "outputs": [],
   "source": [
    "_OBS_DIM = 4\n",
    "_ACT_DIM = 1\n",
    "_BIGNUM  = 1e5"
   ]
  },
  {
   "cell_type": "markdown",
   "id": "5b185bb3-132d-42ec-ab6a-e159071de80b",
   "metadata": {},
   "source": [
    "# Minimum Viable Components"
   ]
  },
  {
   "cell_type": "code",
   "execution_count": 3,
   "id": "6f07e7b1-d3a9-4a16-961a-b44f884a688e",
   "metadata": {},
   "outputs": [],
   "source": [
    "K     = 3 # ---------------------- Number of neighbors to query\n",
    "N     = 0 # ---------------------- Number of exemplars\n",
    "F     = np.zeros( (N,_OBS_DIM,) ) # Approximating function\n",
    "V     = np.array( [] ) # ------- Action values\n",
    "A     = np.zeros( (N,_ACT_DIM,) ) # Actions (Output)\n",
    "KDT   = None # ------------------- Spatial tree\n",
    "eps   = 1.0 # -------------------- Exploration probability\n",
    "decay = 0.99\n",
    "rad   = 0.125 # ------------------ Minimum distance between exemplars (Overwrite radius)\n",
    "vMar  = 0.10 # ------------------- Allowed margin on value estimates"
   ]
  },
  {
   "cell_type": "code",
   "execution_count": 4,
   "id": "4b83e762-42ad-4edf-9780-ed1372bd3e64",
   "metadata": {},
   "outputs": [],
   "source": [
    "def points_from_indices( pnts, ndcs ):\n",
    "    \"\"\" Get the subset of `pnts` designated by `ndcs` \"\"\"\n",
    "    N = len( ndcs )\n",
    "    P = np.zeros( (N,pnts.shape[1],) )\n",
    "    for i, idx in enumerate( ndcs ):\n",
    "        P[i,:] = pnts[idx,:]\n",
    "    return P"
   ]
  },
  {
   "cell_type": "code",
   "execution_count": 5,
   "id": "e0951ea1-1d07-4ac7-9d7f-df0a75e4acd0",
   "metadata": {},
   "outputs": [],
   "source": [
    "\n",
    "\n",
    "\n",
    "def add_particle( state, action, value, getTree = False ):\n",
    "    \"\"\" Add a new particle to the value function \"\"\"\n",
    "    global N, F, V, A, KDT\n",
    "    \n",
    "    print( f\"V-Stack: {F.shape} + {state.shape}\" )\n",
    "    \n",
    "    if N < 1:\n",
    "        F = state\n",
    "        V = np.array( [value,] )\n",
    "        A = action\n",
    "    else:\n",
    "        F = np.vstack( (F,state, ) )\n",
    "        temp = V.tolist()\n",
    "        temp.append( value )\n",
    "        V = np.array( temp )\n",
    "        A = np.vstack( (A,action,) )\n",
    "\n",
    "    print( f\"New Values: {V}\" )\n",
    "    \n",
    "    N += 1\n",
    "    if getTree:\n",
    "        return N, KDTree( F )\n",
    "    else:\n",
    "        return N, None\n",
    "        \n",
    "\n",
    "def recalc_spatial_tree():\n",
    "    \"\"\" Recalculate spatial tree \"\"\"\n",
    "    global N, F, V, A, KDT\n",
    "    if N > 1:\n",
    "        KDT = KDTree( F )\n",
    "\n",
    "    \n",
    "def get_action_and_value_inv_dist( state ):\n",
    "    \"\"\" Estimate the current optimal action and value for the state \"\"\"\n",
    "    global N, F, V, A, KDT\n",
    "    if (N < 1) or (KDT is None):\n",
    "        return None, None\n",
    "    dists, indcs = KDT.query( state, K )\n",
    "    dists = dists[0]\n",
    "    indcs = indcs[0]\n",
    "    # print( dists, indcs )\n",
    "    fractV = []\n",
    "    indcsV = []\n",
    "    for i, d in enumerate( dists ):\n",
    "        # print( d )\n",
    "        if d < _BIGNUM:\n",
    "            fractV.append( 1.0/d )\n",
    "            indcsV.append( indcs[i] )\n",
    "    fractV = np.array( fractV )\n",
    "    normD  = np.linalg.norm( fractV )\n",
    "    fractV = fractV / normD\n",
    "    rtnAct = np.zeros( (_ACT_DIM,) )\n",
    "    rtnVal = 0.0\n",
    "    for i, frac in enumerate( fractV ):\n",
    "        idx = indcsV[i]\n",
    "        rtnAct += (A[ idx ] * frac)\n",
    "        print( V )\n",
    "        rtnVal += (V[ idx ] * frac)\n",
    "    return rtnAct, rtnVal\n",
    "   \n",
    "\n",
    "def eval_particle( state, action, value ):\n",
    "    \"\"\" Decide whetner this point represents a particle worth saving \"\"\"\n",
    "    global N, F, V, A, KDT\n",
    "    # 0. Get our estimate of the value of this state\n",
    "    if N > 1:\n",
    "        print(N)\n",
    "        estAct, estVal = get_action_and_value_inv_dist( state )\n",
    "    else:\n",
    "        estAct, estVal = None, None\n",
    "    \n",
    "    # 1. Find out if there is a particle there\n",
    "    if KDT is not None:\n",
    "        ndcs = KDT.query_ball_point( state, rad )\n",
    "    else:\n",
    "        ndcs = []\n",
    "\n",
    "    # 2. If there is a particle already there and the current value is better, then update\n",
    "    if len( ndcs ) and (value > estVal):\n",
    "        index = ndcs[0]\n",
    "        # fNear = points_from_indices( F, ndcs )\n",
    "        vNear = points_from_indices( V, ndcs )\n",
    "        if vNear[0] < value:\n",
    "            A[index,:] = action\n",
    "            V[index]   = value\n",
    "        if len( ndcs ) > 1:\n",
    "            print( \"WARNING: NEARNESS CONSTRAINT VIOLATED\" )\n",
    "\n",
    "    # 3. Elif this is an open space that does NOT estimate the value well\n",
    "    elif (estVal is None) or abs(estVal - value) > abs(value * vMar):\n",
    "        print( state, action, value )\n",
    "        add_particle( state, action, value )\n",
    "        recalc_spatial_tree()\n",
    "    # Else this is an open space that predicts the value well, No update!\n",
    "    # N. Return the current number of particles in the estimator\n",
    "    return N\n",
    "    \n",
    "            "
   ]
  },
  {
   "cell_type": "markdown",
   "id": "3997de2e-e6b7-4358-bde5-1975ca095326",
   "metadata": {},
   "source": [
    "# Simple Learning Test"
   ]
  },
  {
   "cell_type": "code",
   "execution_count": 6,
   "id": "ade65299-9291-435b-90db-626462528630",
   "metadata": {},
   "outputs": [],
   "source": [
    "EPISODES = 1000\n",
    "epLen    =  500\n",
    "avg_time = 0\n",
    "max_time = -1\n",
    "env      = gym.make( 'CartPole-v1' ).env\n",
    "env      = wrappers.RecordEpisodeStatistics( env, 100 )"
   ]
  },
  {
   "cell_type": "code",
   "execution_count": 7,
   "id": "fafeab77-22bb-4c9a-bfba-7ca223c7a32b",
   "metadata": {},
   "outputs": [
    {
     "name": "stdout",
     "output_type": "stream",
     "text": [
      "Episode 1: Starting at [[-0.01977153  0.04792293  0.03377539 -0.04437153]]\n",
      "[-0.01881307 -0.14766665  0.03288796  0.2587736 ] (4,)\n",
      "[[-0.01977153  0.04792293  0.03377539 -0.04437153]] 0 1.0\n",
      "V-Stack: (0, 4) + (1, 4)\n",
      "New Values: [1.]\n",
      "[-0.0217664   0.04697073  0.03806343 -0.02335727] (4,)\n",
      "[[-0.01881307 -0.14766665  0.03288796  0.2587736 ]] 1 1.0\n",
      "V-Stack: (1, 4) + (1, 4)\n",
      "New Values: [1. 1.]\n",
      "[-0.02082699 -0.14867583  0.03759629  0.28108793] (4,)\n",
      "2\n",
      "[1. 1.]\n",
      "[1. 1.]\n"
     ]
    },
    {
     "ename": "ValueError",
     "evalue": "could not broadcast input array from shape (4,) into shape (2,)",
     "output_type": "error",
     "traceback": [
      "\u001b[0;31m---------------------------------------------------------------------------\u001b[0m",
      "\u001b[0;31mValueError\u001b[0m                                Traceback (most recent call last)",
      "Cell \u001b[0;32mIn[7], line 19\u001b[0m\n\u001b[1;32m     16\u001b[0m \u001b[38;5;28mprint\u001b[39m( obs, obs\u001b[38;5;241m.\u001b[39mshape )\n\u001b[1;32m     17\u001b[0m obs \u001b[38;5;241m=\u001b[39m obs\u001b[38;5;241m.\u001b[39mreshape( (\u001b[38;5;241m1\u001b[39m,_OBS_DIM,) )\n\u001b[0;32m---> 19\u001b[0m \u001b[43meval_particle\u001b[49m\u001b[43m(\u001b[49m\u001b[43m \u001b[49m\u001b[43msLast\u001b[49m\u001b[43m,\u001b[49m\u001b[43m \u001b[49m\u001b[43maction\u001b[49m\u001b[43m,\u001b[49m\u001b[43m \u001b[49m\u001b[43mreward\u001b[49m\u001b[43m \u001b[49m\u001b[43m)\u001b[49m\n\u001b[1;32m     21\u001b[0m \u001b[38;5;28;01mif\u001b[39;00m terminated:\n\u001b[1;32m     22\u001b[0m     avg_time \u001b[38;5;241m=\u001b[39m avg_time \u001b[38;5;241m+\u001b[39m t\n",
      "Cell \u001b[0;32mIn[5], line 75\u001b[0m, in \u001b[0;36meval_particle\u001b[0;34m(state, action, value)\u001b[0m\n\u001b[1;32m     73\u001b[0m \u001b[38;5;66;03m# 1. Find out if there is a particle there\u001b[39;00m\n\u001b[1;32m     74\u001b[0m \u001b[38;5;28;01mif\u001b[39;00m KDT \u001b[38;5;129;01mis\u001b[39;00m \u001b[38;5;129;01mnot\u001b[39;00m \u001b[38;5;28;01mNone\u001b[39;00m:\n\u001b[0;32m---> 75\u001b[0m     ndcs \u001b[38;5;241m=\u001b[39m \u001b[43mKDT\u001b[49m\u001b[38;5;241;43m.\u001b[39;49m\u001b[43mquery_ball_point\u001b[49m\u001b[43m(\u001b[49m\u001b[43m \u001b[49m\u001b[43mF\u001b[49m\u001b[43m,\u001b[49m\u001b[43m \u001b[49m\u001b[43mstate\u001b[49m\u001b[43m,\u001b[49m\u001b[43m \u001b[49m\u001b[43mrad\u001b[49m\u001b[43m \u001b[49m\u001b[43m)\u001b[49m\n\u001b[1;32m     76\u001b[0m \u001b[38;5;28;01melse\u001b[39;00m:\n\u001b[1;32m     77\u001b[0m     ndcs \u001b[38;5;241m=\u001b[39m []\n",
      "File \u001b[0;32m~/.local/lib/python3.9/site-packages/scipy/spatial/_kdtree.py:536\u001b[0m, in \u001b[0;36mKDTree.query_ball_point\u001b[0;34m(self, x, r, p, eps, workers, return_sorted, return_length)\u001b[0m\n\u001b[1;32m    534\u001b[0m \u001b[38;5;28;01mif\u001b[39;00m x\u001b[38;5;241m.\u001b[39mdtype\u001b[38;5;241m.\u001b[39mkind \u001b[38;5;241m==\u001b[39m \u001b[38;5;124m'\u001b[39m\u001b[38;5;124mc\u001b[39m\u001b[38;5;124m'\u001b[39m:\n\u001b[1;32m    535\u001b[0m     \u001b[38;5;28;01mraise\u001b[39;00m \u001b[38;5;167;01mTypeError\u001b[39;00m(\u001b[38;5;124m\"\u001b[39m\u001b[38;5;124mKDTree does not work with complex data\u001b[39m\u001b[38;5;124m\"\u001b[39m)\n\u001b[0;32m--> 536\u001b[0m \u001b[38;5;28;01mreturn\u001b[39;00m \u001b[38;5;28;43msuper\u001b[39;49m\u001b[43m(\u001b[49m\u001b[43m)\u001b[49m\u001b[38;5;241;43m.\u001b[39;49m\u001b[43mquery_ball_point\u001b[49m\u001b[43m(\u001b[49m\n\u001b[1;32m    537\u001b[0m \u001b[43m    \u001b[49m\u001b[43mx\u001b[49m\u001b[43m,\u001b[49m\u001b[43m \u001b[49m\u001b[43mr\u001b[49m\u001b[43m,\u001b[49m\u001b[43m \u001b[49m\u001b[43mp\u001b[49m\u001b[43m,\u001b[49m\u001b[43m \u001b[49m\u001b[43meps\u001b[49m\u001b[43m,\u001b[49m\u001b[43m \u001b[49m\u001b[43mworkers\u001b[49m\u001b[43m,\u001b[49m\u001b[43m \u001b[49m\u001b[43mreturn_sorted\u001b[49m\u001b[43m,\u001b[49m\u001b[43m \u001b[49m\u001b[43mreturn_length\u001b[49m\u001b[43m)\u001b[49m\n",
      "File \u001b[0;32m_ckdtree.pyx:937\u001b[0m, in \u001b[0;36mscipy.spatial._ckdtree.cKDTree.query_ball_point\u001b[0;34m()\u001b[0m\n",
      "File \u001b[0;32m_ckdtree.pyx:1632\u001b[0m, in \u001b[0;36mscipy.spatial._ckdtree.broadcast_contiguous\u001b[0;34m()\u001b[0m\n",
      "\u001b[0;31mValueError\u001b[0m: could not broadcast input array from shape (4,) into shape (2,)"
     ]
    }
   ],
   "source": [
    "for i_episode in range( EPISODES ):\n",
    "    # instansiating the environment\n",
    "    obs = env.reset()[0].reshape( (1,_OBS_DIM,) )\n",
    "    print( f\"Episode {i_episode+1}: Starting at {obs}\" )\n",
    "    for t in range( epLen ):\n",
    "        # uncomment this is you want to see the rendering \n",
    "        #env.render()\n",
    "        if (random() < eps) or (N<2):\n",
    "            action = env.action_space.sample()\n",
    "        else:\n",
    "            action, preVal = get_action_and_value_inv_dist( obs )\n",
    "            \n",
    "        sLast = obs\n",
    "        \n",
    "        obs, reward, terminated, truncated, info = env.step( action )\n",
    "        print( obs, obs.shape )\n",
    "        obs = obs.reshape( (1,_OBS_DIM,) )\n",
    "        \n",
    "        eval_particle( sLast, action, reward )\n",
    "        \n",
    "        if terminated:\n",
    "            avg_time = avg_time + t\n",
    "            if t > max_time:\n",
    "                max_time = t\n",
    "                print( f\"\\tMax. Uptime: {max_time}\" )\n",
    "            #print(\"Episode finished after {} timesteps\".format(t+1))\n",
    "            break\n",
    "    # resetting the enviroment\n",
    "    env.reset()\n",
    "        \n",
    "\n",
    "# printing the avg time the game lasted\n",
    "avg_time = avg_time/EPISODES\n",
    "print( 'avg time agent survives :', avg_time )"
   ]
  },
  {
   "cell_type": "code",
   "execution_count": null,
   "id": "0d24b140-f0d0-4353-b8a3-1b6ab6906dd0",
   "metadata": {},
   "outputs": [],
   "source": []
  },
  {
   "cell_type": "code",
   "execution_count": null,
   "id": "9741f4d6-33f9-4481-ac4e-5fe530fbff34",
   "metadata": {},
   "outputs": [],
   "source": []
  }
 ],
 "metadata": {
  "kernelspec": {
   "display_name": "Python 3 (ipykernel)",
   "language": "python",
   "name": "python3"
  },
  "language_info": {
   "codemirror_mode": {
    "name": "ipython",
    "version": 3
   },
   "file_extension": ".py",
   "mimetype": "text/x-python",
   "name": "python",
   "nbconvert_exporter": "python",
   "pygments_lexer": "ipython3",
   "version": "3.9.18"
  }
 },
 "nbformat": 4,
 "nbformat_minor": 5
}
