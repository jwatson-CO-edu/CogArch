{
 "cells": [
  {
   "cell_type": "markdown",
   "id": "57d5b57c-7d46-447f-91e5-e3ee615b3f6f",
   "metadata": {},
   "source": [
    "# Init"
   ]
  },
  {
   "cell_type": "code",
   "execution_count": 1,
   "id": "a5a73df4-7e17-43f1-9be7-06306fec363a",
   "metadata": {},
   "outputs": [],
   "source": [
    "from random import random\n",
    "\n",
    "import gym\n",
    "from gym import wrappers\n",
    "\n",
    "import numpy as np\n",
    "from scipy.spatial import KDTree"
   ]
  },
  {
   "cell_type": "markdown",
   "id": "d3a319c1-4941-47fd-b23f-7c7d414c0154",
   "metadata": {},
   "source": [
    "# Env Settings"
   ]
  },
  {
   "cell_type": "code",
   "execution_count": 2,
   "id": "023eaf3c-98c2-48e8-a9aa-5ab4a693687e",
   "metadata": {},
   "outputs": [],
   "source": [
    "_OBS_DIM = 4\n",
    "_ACT_DIM = 1\n",
    "_BIGNUM  = 1e5\n",
    "_OBS_BB  = np.array([\n",
    "    [ -2.0, -3.25, -0.35, -3.75, ],\n",
    "    [  2.0,  3.25,  0.35   3.75, ]\n",
    "])"
   ]
  },
  {
   "cell_type": "markdown",
   "id": "f4b50f7a-a9c9-4390-b35d-650db7830deb",
   "metadata": {},
   "source": [
    "# Helper Functions"
   ]
  },
  {
   "cell_type": "code",
   "execution_count": null,
   "id": "d7135929-1c1f-4fc1-b847-e8bab8926b37",
   "metadata": {},
   "outputs": [],
   "source": [
    "########## RECTANGULAR GRIDS #######################################################################\n",
    "\n",
    "\n",
    "def regular_grid_helper( tickLists, i = 1, curVec = None, allPts = None ):\n",
    "    \"\"\" Get all possible combos of `tickLists` elements \"\"\"\n",
    "    mDim = tickLists.shape[0]\n",
    "    \n",
    "    # If this is the root call, then create the return matrix\n",
    "    if allPts is None:\n",
    "        nPts = 1\n",
    "        for tcs in tickLists:\n",
    "            nPts *= len( tcs )\n",
    "        allPts = np.zeros( (nPts, mDim,) )\n",
    "\n",
    "    \n",
    "    # If we are beginning a new vector\n",
    "    if curVec == nothing:\n",
    "        curVec = []\n",
    "    \n",
    "    # Base Case: Last Tick Dimension\n",
    "    if mDim == 1:\n",
    "        i = 0\n",
    "        for tick in tickLists[0]:\n",
    "            nuVec       =  curVec.append( tick ) \n",
    "            allPts[i,:] =  nuVec\n",
    "            i += 1\n",
    "        end\n",
    "        curVec = nothing\n",
    "\n",
    "    # Recursive Case\n",
    "    else:\n",
    "        for tick in tickLists[0]:\n",
    "            revVec = curVec[:]\n",
    "            revVec.append( tick )\n",
    "            _, i = regular_grid_helper( tickLists[1:end], i , revVec, allPts )\n",
    "    \n",
    "    return allPts, i\n",
    "\n",
    "\n",
    "def get_nD_ticks( rangeMatx, spacingArr ):\n",
    "    \"\"\" Return per-dim ticks of a regular grid of points across `rangeMatx` and `spacingArr` per-dim \"\"\"\n",
    "    rtnTicks = []\n",
    "    mDim     = rangeMatx.shape[0]\n",
    "    \n",
    "    # 1. Generate tick marks in each dimension\n",
    "    for j in range( mDim ):\n",
    "        dimTicks = []\n",
    "        bgn      = rangeMatx[0,j]\n",
    "        stp      = rangeMatx[1,j]\n",
    "        k        = 0\n",
    "        dimTicks.append( bgn )\n",
    "        while true:\n",
    "            t_k = bgn + (k * spacingArr[j])\n",
    "            if t_k <= stp:\n",
    "                dimTicks( t_k )\n",
    "            else:\n",
    "                break\n",
    "            k += 1\n",
    "        rtnTicks.append( dimTicks )\n",
    "\n",
    "    return rtnTicks"
   ]
  },
  {
   "cell_type": "markdown",
   "id": "45c24855-de4b-48ac-9ff5-6b8304e6fa59",
   "metadata": {},
   "source": [
    "# Minimum Viable Components"
   ]
  },
  {
   "cell_type": "code",
   "execution_count": 3,
   "id": "546e2ca6-8947-4151-98ec-a92f7d2d037e",
   "metadata": {},
   "outputs": [],
   "source": []
  },
  {
   "cell_type": "code",
   "execution_count": null,
   "id": "be56c1f5-9ac9-4230-a4f2-6ca2eb67cbd6",
   "metadata": {},
   "outputs": [],
   "source": []
  }
 ],
 "metadata": {
  "kernelspec": {
   "display_name": "Python 3 (ipykernel)",
   "language": "python",
   "name": "python3"
  },
  "language_info": {
   "codemirror_mode": {
    "name": "ipython",
    "version": 3
   },
   "file_extension": ".py",
   "mimetype": "text/x-python",
   "name": "python",
   "nbconvert_exporter": "python",
   "pygments_lexer": "ipython3",
   "version": "3.9.18"
  }
 },
 "nbformat": 4,
 "nbformat_minor": 5
}
