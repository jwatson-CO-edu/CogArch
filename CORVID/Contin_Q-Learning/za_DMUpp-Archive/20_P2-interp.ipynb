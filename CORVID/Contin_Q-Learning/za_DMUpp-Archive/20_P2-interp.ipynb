{
 "cells": [
  {
   "cell_type": "markdown",
   "id": "62005ab6-cc3c-40d3-86a5-e97f77b3594d",
   "metadata": {},
   "source": [
    "# Init"
   ]
  },
  {
   "cell_type": "code",
   "execution_count": 1,
   "id": "4b472c7e-7511-4fec-8783-4b26590fe4d8",
   "metadata": {},
   "outputs": [
    {
     "data": {
      "text/plain": [
       "query_value_w_gauss"
      ]
     },
     "execution_count": 1,
     "metadata": {},
     "output_type": "execute_result"
    }
   ],
   "source": [
    "using LinearAlgebra\n",
    "using NearestNeighbors\n",
    "using StaticArrays\n",
    "include(\"utils.jl\"   )\n",
    "include(\"kernels.jl\" );"
   ]
  },
  {
   "cell_type": "code",
   "execution_count": 2,
   "id": "6784b5d7-92d9-443b-a5ba-db5a621a377b",
   "metadata": {},
   "outputs": [
    {
     "data": {
      "text/plain": [
       "10"
      ]
     },
     "execution_count": 2,
     "metadata": {},
     "output_type": "execute_result"
    }
   ],
   "source": [
    "_DIM_X    = 2\n",
    "_DIM_A    = 2\n",
    "_X_DOMAIN = [-2.0 +2.0; -2.0 +2.0]\n",
    "_A_DOMAIN = [-0.5 +0.5; -0.5 +0.5]\n",
    "_Q_DOMAIN = [_X_DOMAIN; _A_DOMAIN]\n",
    "_LEAFLEN  = 10"
   ]
  },
  {
   "cell_type": "code",
   "execution_count": 3,
   "id": "e7ee25dc-69a6-4a6f-9d95-5d1f0ee92a8f",
   "metadata": {},
   "outputs": [
    {
     "name": "stdout",
     "output_type": "stream",
     "text": [
      "(2, 289)\n"
     ]
    }
   ],
   "source": [
    "X    = regular_grid_pts_nD( _X_DOMAIN, [0.25,0.25] );\n",
    "nPts = size( X )[2]; # ------- Number of anchors\n",
    "mDim = size( X )[1]; # ------- Dimensionality of anchors \n",
    "Y    = zeros(Float64, nPts); # Values at anchors\n",
    "vsts = zeros(Int64, nPts); # - Set number of visits to zero\n",
    "println( size(X) )\n",
    "\n",
    "X_kdTree = KDTree( X; leafsize = _LEAFLEN, reorder = false ); # Prohibit slice reorder"
   ]
  },
  {
   "cell_type": "code",
   "execution_count": 4,
   "id": "83de4cf1-93da-4130-aafb-cf83f8dd71fb",
   "metadata": {},
   "outputs": [
    {
     "data": {
      "text/plain": [
       "manhatt_contrib_to_q"
      ]
     },
     "execution_count": 4,
     "metadata": {},
     "output_type": "execute_result"
    }
   ],
   "source": [
    "\"\"\"\n",
    "Compute the Manhattan Distance from `vec` to the origin\n",
    "\"\"\"\n",
    "function manhattan_norm( vec )\n",
    "    return sum( abs.( vec ) )\n",
    "end\n",
    "\n",
    "\n",
    "\"\"\"\n",
    "Each point contributes the inverse of its manhattan distance from the interpolated point\n",
    "\"\"\"\n",
    "function manhatt_contrib( vec )\n",
    "    return 1.0 / manhattan_norm( vec )\n",
    "end\n",
    "\n",
    "\n",
    "\"\"\"\n",
    "Calc version of `vec` normalized to sum to 1.0, The contributions of all neighbors must sum to 1.0\n",
    "\"\"\"\n",
    "function vec_norm( vec )\n",
    "    len = sum( vec )\n",
    "    if len == 0.0\n",
    "        return vec\n",
    "    else\n",
    "        return vec / len\n",
    "    end\n",
    "end\n",
    "\n",
    "\n",
    "\"\"\"\n",
    "Return weights for `pnts` according to the closeness to `q`\n",
    "\"\"\"\n",
    "function manhatt_contrib_to_q( pnts, q )\n",
    "    Npts  = size( pnts, 2 )\n",
    "    wghts = zeros( Npts )\n",
    "    for j = 1:Npts\n",
    "        wghts[j] = manhatt_contrib( q - pnts[:,j] )\n",
    "    end\n",
    "    return vec_norm( wghts )\n",
    "end"
   ]
  },
  {
   "cell_type": "code",
   "execution_count": 5,
   "id": "76652b65-e038-44fd-8f65-b896f2744d8c",
   "metadata": {},
   "outputs": [
    {
     "data": {
      "text/plain": [
       "query_value_fuzzy"
      ]
     },
     "execution_count": 5,
     "metadata": {},
     "output_type": "execute_result"
    }
   ],
   "source": [
    "\"\"\"\n",
    "Use k Nearest Neighbors of `q` to retrive value from a `QStore`\n",
    "\"\"\"\n",
    "function query_value_fuzzy( kdTree, pnts, vals, q; k = 3 )\n",
    "    idxs, wgts = K_kNN( kdTree, q; k = k )\n",
    "    p_  , v_   = fetch_by_indices( pnts, vals, idxs )\n",
    "    wgts       =  manhatt_contrib_to_q( p_, q )\n",
    "    return val_weighted_avg( v_, wgts )\n",
    "end"
   ]
  },
  {
   "cell_type": "code",
   "execution_count": 16,
   "id": "af037578-af19-441d-b104-b20d5de05ec6",
   "metadata": {},
   "outputs": [],
   "source": [
    "truthFunc = get_nD_example_plane_eq( _DIM_X, 1 )\n",
    "assoc_pnts_with_true_values( X, Y, truthFunc )"
   ]
  },
  {
   "cell_type": "code",
   "execution_count": 17,
   "id": "5b326fd3-39ed-4354-865c-d6e6d43c39ae",
   "metadata": {},
   "outputs": [
    {
     "name": "stdout",
     "output_type": "stream",
     "text": [
      "Average error for fuzzy kernel on plane: 0.02205428957474461\n"
     ]
    }
   ],
   "source": [
    "bbox = _X_DOMAIN\n",
    "N    = 50\n",
    "smpl = sample_bbox_N( bbox, N )\n",
    "err  = 0.0\n",
    "\n",
    "for j = 1:N\n",
    "    smp = smpl[:,j]\n",
    "    est = query_value_fuzzy( X_kdTree, X, Y, smp; k = 3 )\n",
    "    tru = truthFunc( smp )\n",
    "    err += abs( est - tru )\n",
    "end\n",
    "\n",
    "println( \"Average error for fuzzy kernel on plane: \", err/N )"
   ]
  },
  {
   "cell_type": "code",
   "execution_count": 18,
   "id": "13b1ae8b-14c8-4388-96e7-daf7a4b1d4f3",
   "metadata": {},
   "outputs": [],
   "source": [
    "truthFunc = get_nD_example_cone_eq( 4.0, 1.0 )\n",
    "assoc_pnts_with_true_values( X, Y, truthFunc )"
   ]
  },
  {
   "cell_type": "code",
   "execution_count": 19,
   "id": "b1d03f9a-a7a8-48bf-b5bd-851699110ac0",
   "metadata": {},
   "outputs": [
    {
     "name": "stdout",
     "output_type": "stream",
     "text": [
      "Average error for fuzzy kernel on cone: 0.015311012101041323\n"
     ]
    }
   ],
   "source": [
    "bbox = _X_DOMAIN\n",
    "N    = 50\n",
    "smpl = sample_bbox_N( bbox, N )\n",
    "err  = 0.0\n",
    "\n",
    "for j = 1:N\n",
    "    smp = smpl[:,j]\n",
    "    est = query_value_fuzzy( X_kdTree, X, Y, smp; k = 3 )\n",
    "    tru = truthFunc( smp )\n",
    "    err += abs( est - tru )\n",
    "end\n",
    "\n",
    "println( \"Average error for fuzzy kernel on cone: \", err/N )"
   ]
  },
  {
   "cell_type": "code",
   "execution_count": 23,
   "id": "0cf4fbaf-e910-47d0-99ff-ee4a2c31217b",
   "metadata": {},
   "outputs": [],
   "source": [
    "truthFunc = get_nD_example_hill_eq( 4.0, 2.0 )\n",
    "assoc_pnts_with_true_values( X, Y, truthFunc )"
   ]
  },
  {
   "cell_type": "code",
   "execution_count": 24,
   "id": "7a6e0e72-bad8-4fae-82ea-5fb0ef313123",
   "metadata": {},
   "outputs": [
    {
     "name": "stdout",
     "output_type": "stream",
     "text": [
      "Average error for fuzzy kernel on hill: 0.015776085158719613\n"
     ]
    }
   ],
   "source": [
    "bbox = _X_DOMAIN\n",
    "N    = 50\n",
    "smpl = sample_bbox_N( bbox, N )\n",
    "err  = 0.0\n",
    "\n",
    "for j = 1:N\n",
    "    smp = smpl[:,j]\n",
    "    est = query_value_fuzzy( X_kdTree, X, Y, smp; k = 3 )\n",
    "    tru = truthFunc( smp )\n",
    "    err += abs( est - tru )\n",
    "end\n",
    "\n",
    "println( \"Average error for fuzzy kernel on hill: \", err/N )"
   ]
  },
  {
   "cell_type": "code",
   "execution_count": null,
   "id": "6046433a-912a-4379-825f-49fc885cab57",
   "metadata": {},
   "outputs": [],
   "source": []
  },
  {
   "cell_type": "code",
   "execution_count": null,
   "id": "6a12b9a8-d8cb-4a8b-81cf-4e8457513086",
   "metadata": {},
   "outputs": [],
   "source": []
  }
 ],
 "metadata": {
  "kernelspec": {
   "display_name": "Julia 1.7.3",
   "language": "julia",
   "name": "julia-1.7"
  },
  "language_info": {
   "file_extension": ".jl",
   "mimetype": "application/julia",
   "name": "julia",
   "version": "1.7.3"
  }
 },
 "nbformat": 4,
 "nbformat_minor": 5
}
