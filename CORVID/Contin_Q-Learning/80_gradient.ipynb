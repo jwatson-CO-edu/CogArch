{
 "cells": [
  {
   "cell_type": "markdown",
   "id": "c777c15a-d3a0-4f67-a593-f95be6cf1860",
   "metadata": {},
   "source": [
    "### The plane equation is the gradient of the plane"
   ]
  },
  {
   "cell_type": "code",
   "execution_count": 1,
   "id": "dfce0ce0-35a7-4c8b-8248-daec13bca17e",
   "metadata": {},
   "outputs": [
    {
     "data": {
      "text/plain": [
       "query_value_w_gauss"
      ]
     },
     "execution_count": 1,
     "metadata": {},
     "output_type": "execute_result"
    }
   ],
   "source": [
    "using LinearAlgebra\n",
    "using NearestNeighbors\n",
    "using StaticArrays\n",
    "include(\"utils.jl\"   )\n",
    "include(\"kernels.jl\" )"
   ]
  },
  {
   "cell_type": "code",
   "execution_count": 2,
   "id": "c8a86d66-5993-4c34-af67-f3346d14501b",
   "metadata": {},
   "outputs": [
    {
     "data": {
      "text/plain": [
       "10"
      ]
     },
     "execution_count": 2,
     "metadata": {},
     "output_type": "execute_result"
    }
   ],
   "source": [
    "_DIM_X    = 2\n",
    "_DIM_A    = 2\n",
    "_X_DOMAIN = [-2.0 +2.0; -2.0 +2.0]\n",
    "_A_DOMAIN = [-0.5 +0.5; -0.5 +0.5]\n",
    "_Q_DOMAIN = [_X_DOMAIN; _A_DOMAIN]\n",
    "_LEAFLEN  = 10"
   ]
  },
  {
   "cell_type": "code",
   "execution_count": 3,
   "id": "17115c34-d27d-4b55-801b-45e2ec0fdb2f",
   "metadata": {},
   "outputs": [],
   "source": [
    "X    = regular_grid_pts_nD( _X_DOMAIN, [0.5,0.5,] );\n",
    "nPts = size( X )[2]; # - Number of anchors\n",
    "mDim = size( X )[1]; # - Dimensionality of anchors \n",
    "Y    = zeros(Float64, nPts); # Values at anchors\n",
    "F    = get_nD_example_plane_eq( 2, -4 )\n",
    "assoc_pnts_with_true_values( X, Y, F )"
   ]
  },
  {
   "cell_type": "code",
   "execution_count": 4,
   "id": "27803fc2-9c3c-4267-a470-2626dcb9ad5a",
   "metadata": {},
   "outputs": [
    {
     "data": {
      "text/plain": [
       "least_sqrs_fit"
      ]
     },
     "execution_count": 4,
     "metadata": {},
     "output_type": "execute_result"
    }
   ],
   "source": [
    "\"\"\"\n",
    "Perform a linear hyperplane Least Squared Error fit with independent `X` and dependent `Y`\n",
    "SOURCE: https://stanford.edu/class/engr108/lectures/julia_least_squares_slides.pdf\n",
    "\"\"\"\n",
    "function least_sqrs_fit( X, Y )\n",
    "    N          = size( X, 2 )\n",
    "    beta_tilde = [ ones(N,1) X' ] \\ Y;\n",
    "    fitEQ      = beta_tilde[2:end];\n",
    "    err        = beta_tilde[1]; \n",
    "    return fitEQ, err \n",
    "end"
   ]
  },
  {
   "cell_type": "code",
   "execution_count": 6,
   "id": "1c7efc0a-7d52-4653-8197-7a60be1645a2",
   "metadata": {},
   "outputs": [
    {
     "data": {
      "text/plain": [
       "2-element Vector{Float64}:\n",
       " -1.9999999999999998\n",
       " -1.9999999999999993"
      ]
     },
     "metadata": {},
     "output_type": "display_data"
    },
    {
     "ename": "LoadError",
     "evalue": "MethodError: no method matching abs(::Vector{Float64})\n\u001b[0mClosest candidates are:\n\u001b[0m  abs(\u001b[91m::Unsigned\u001b[39m) at /opt/julia-1.7.3/share/julia/base/int.jl:179\n\u001b[0m  abs(\u001b[91m::Signed\u001b[39m) at /opt/julia-1.7.3/share/julia/base/int.jl:180\n\u001b[0m  abs(\u001b[91m::Complex\u001b[39m) at /opt/julia-1.7.3/share/julia/base/complex.jl:277\n\u001b[0m  ...",
     "output_type": "error",
     "traceback": [
      "MethodError: no method matching abs(::Vector{Float64})\n\u001b[0mClosest candidates are:\n\u001b[0m  abs(\u001b[91m::Unsigned\u001b[39m) at /opt/julia-1.7.3/share/julia/base/int.jl:179\n\u001b[0m  abs(\u001b[91m::Signed\u001b[39m) at /opt/julia-1.7.3/share/julia/base/int.jl:180\n\u001b[0m  abs(\u001b[91m::Complex\u001b[39m) at /opt/julia-1.7.3/share/julia/base/complex.jl:277\n\u001b[0m  ...",
      "",
      "Stacktrace:",
      " [1] top-level scope",
      "   @ In[6]:3",
      " [2] eval",
      "   @ ./boot.jl:373 [inlined]",
      " [3] include_string(mapexpr::typeof(REPL.softscope), mod::Module, code::String, filename::String)",
      "   @ Base ./loading.jl:1196"
     ]
    }
   ],
   "source": [
    "eq, er = least_sqrs_fit( X, Y )\n",
    "display( eq )\n",
    "display( abs( eq ) )\n"
   ]
  },
  {
   "cell_type": "code",
   "execution_count": null,
   "id": "56ed43a8-5cf3-4c0a-bc4a-69b4269b7cc4",
   "metadata": {},
   "outputs": [],
   "source": []
  }
 ],
 "metadata": {
  "kernelspec": {
   "display_name": "Julia 1.7.3",
   "language": "julia",
   "name": "julia-1.7"
  },
  "language_info": {
   "file_extension": ".jl",
   "mimetype": "application/julia",
   "name": "julia",
   "version": "1.7.3"
  }
 },
 "nbformat": 4,
 "nbformat_minor": 5
}
