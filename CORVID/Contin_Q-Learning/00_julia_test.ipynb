{
 "cells": [
  {
   "cell_type": "markdown",
   "id": "9923ffe0-cc8f-4404-a4ee-f74ddf3f76ca",
   "metadata": {},
   "source": [
    "# Structs"
   ]
  },
  {
   "cell_type": "code",
   "execution_count": null,
   "id": "c24b2bbe-9434-40f6-a51c-4a0fb10150a3",
   "metadata": {},
   "outputs": [],
   "source": [
    "struct PointValue{N}\n",
    "    pnt::Array{ Float64, N }\n",
    "    val::Float64\n",
    "    tre::KDTree{StaticArrays.SVector{N, Float64}, Euclidean, Float64}\n",
    "end"
   ]
  },
  {
   "cell_type": "markdown",
   "id": "dcf00837-2597-4f1a-999a-c106cbd082a3",
   "metadata": {},
   "source": [
    "# kd-Trees"
   ]
  },
  {
   "cell_type": "code",
   "execution_count": 13,
   "id": "4a6e9d27-1b1f-4f2a-a32f-f43d05259f88",
   "metadata": {},
   "outputs": [
    {
     "name": "stdout",
     "output_type": "stream",
     "text": [
      "KDTree{StaticArrays.SVector{3, Float64}, Euclidean, Float64}\n"
     ]
    },
    {
     "data": {
      "text/plain": [
       "BruteTree{StaticArrays.SVector{3, Float64}, Euclidean}\n",
       "  Number of points: 10000\n",
       "  Dimensions: 3\n",
       "  Metric: Euclidean(0.0)\n",
       "  Reordered: false"
      ]
     },
     "execution_count": 13,
     "metadata": {},
     "output_type": "execute_result"
    }
   ],
   "source": [
    "using NearestNeighbors\n",
    "data = rand(3, 10^4)\n",
    "\n",
    "# Create trees\n",
    "kdtree    = KDTree(data; leafsize = 10)\n",
    "println( typeof( kdtree ) )\n",
    "balltree  = BallTree(data, Minkowski(3.5); reorder = false)\n",
    "brutetree = BruteTree(data)\n",
    "\n",
    "kdtree."
   ]
  },
  {
   "cell_type": "code",
   "execution_count": 3,
   "id": "84648f81-d00c-49b7-89a7-5d859a76181d",
   "metadata": {},
   "outputs": [
    {
     "data": {
      "text/plain": [
       "3×10000 Matrix{Float64}:\n",
       " 0.0732213  0.902221  0.27853    0.779282  …  0.301043  0.0627223  0.806034\n",
       " 0.336336   0.576584  0.0485569  0.539493     0.721517  0.245838   0.463993\n",
       " 0.0907351  0.691699  0.106335   0.925022     0.797657  0.0464356  0.907865"
      ]
     },
     "execution_count": 3,
     "metadata": {},
     "output_type": "execute_result"
    }
   ],
   "source": [
    "rand(3, 10^4)"
   ]
  },
  {
   "cell_type": "markdown",
   "id": "db8e28fa-8343-4377-bedf-e7e77dd054e6",
   "metadata": {},
   "source": [
    "# Second Order Functions"
   ]
  },
  {
   "cell_type": "code",
   "execution_count": 1,
   "id": "02158a8d-bd6e-448e-950a-53ca8ba9a865",
   "metadata": {},
   "outputs": [
    {
     "data": {
      "text/plain": [
       "get_add_x (generic function with 1 method)"
      ]
     },
     "execution_count": 1,
     "metadata": {},
     "output_type": "execute_result"
    }
   ],
   "source": [
    "function get_add_x( x )\n",
    "    return function( y )\n",
    "        x + y\n",
    "    end\n",
    "end"
   ]
  },
  {
   "cell_type": "code",
   "execution_count": 3,
   "id": "b1de81ff-ad47-4488-bf7e-ca0619f58c8b",
   "metadata": {},
   "outputs": [
    {
     "name": "stdout",
     "output_type": "stream",
     "text": [
      "7"
     ]
    }
   ],
   "source": [
    "foo = get_add_x( 3 )\n",
    "print( foo(4) )"
   ]
  },
  {
   "cell_type": "markdown",
   "id": "40512dec-7cf7-4c19-a38b-680696cd3319",
   "metadata": {},
   "source": [
    "# For Loop Syntax"
   ]
  },
  {
   "cell_type": "code",
   "execution_count": 7,
   "id": "be49ae1f-155a-4dbe-86e4-4db0c228730f",
   "metadata": {},
   "outputs": [
    {
     "name": "stdout",
     "output_type": "stream",
     "text": [
      "3,2,1,"
     ]
    }
   ],
   "source": [
    "n=3\n",
    "for i in n:-1:1 # Counting down from `n` to 1, inclusive\n",
    "    print( i, ',' )\n",
    "end"
   ]
  },
  {
   "cell_type": "markdown",
   "id": "47b43400-2b18-465d-a19a-09a333443366",
   "metadata": {},
   "source": [
    "# Vectors (Python Lists)"
   ]
  },
  {
   "cell_type": "code",
   "execution_count": 12,
   "id": "cb961df2-6a5c-4b0c-90fa-f944a4470a25",
   "metadata": {},
   "outputs": [
    {
     "data": {
      "text/plain": [
       "Any[]"
      ]
     },
     "execution_count": 12,
     "metadata": {},
     "output_type": "execute_result"
    }
   ],
   "source": [
    "foo = []"
   ]
  },
  {
   "cell_type": "code",
   "execution_count": 13,
   "id": "0b881546-205f-4bd4-b382-ff4a52ca1c1c",
   "metadata": {},
   "outputs": [
    {
     "data": {
      "text/plain": [
       "5-element Vector{Any}:\n",
       " 1\n",
       " 2\n",
       " 3\n",
       "  Any[]\n",
       "  Any[]"
      ]
     },
     "metadata": {},
     "output_type": "display_data"
    }
   ],
   "source": [
    "append!( foo, 1 )\n",
    "append!( foo, [2,3] )\n",
    "append!( foo, [[]] )\n",
    "append!( foo, [Vector{Any}()] )\n",
    "\n",
    "display( foo )"
   ]
  },
  {
   "cell_type": "code",
   "execution_count": 5,
   "id": "bc264e5b-597e-49e4-9a70-a58f930ead93",
   "metadata": {},
   "outputs": [
    {
     "data": {
      "text/plain": [
       "3×3 Matrix{Float64}:\n",
       " 0.0  1.0  0.0\n",
       " 0.0  2.0  0.0\n",
       " 0.0  3.0  0.0"
      ]
     },
     "metadata": {},
     "output_type": "display_data"
    }
   ],
   "source": [
    "baz = zeros(3,3)\n",
    "qub = [1,2,3]\n",
    "baz[:,2] = qub\n",
    "display( baz )"
   ]
  },
  {
   "cell_type": "code",
   "execution_count": 9,
   "id": "bfa08b46-7e1b-4f42-840c-0cad9522249e",
   "metadata": {},
   "outputs": [
    {
     "data": {
      "text/plain": [
       "6-element Vector{Int64}:\n",
       " 1\n",
       " 2\n",
       " 3\n",
       " 4\n",
       " 5\n",
       " 6"
      ]
     },
     "metadata": {},
     "output_type": "display_data"
    },
    {
     "data": {
      "text/plain": [
       "4-element Vector{Int64}:\n",
       " 4\n",
       " 5\n",
       " 6\n",
       " 7"
      ]
     },
     "metadata": {},
     "output_type": "display_data"
    }
   ],
   "source": [
    "a = [1,2,3]\n",
    "b = [4,5,6]\n",
    "display( vcat(a,b) )\n",
    "display( vcat(b,7) )"
   ]
  },
  {
   "cell_type": "markdown",
   "id": "386ecdb4-f4b8-4acb-8cfe-f36c71cca059",
   "metadata": {},
   "source": [
    "## Iterate Over Vector"
   ]
  },
  {
   "cell_type": "code",
   "execution_count": 2,
   "id": "9d22e645-7c76-4bdf-a031-448e05e0b5b8",
   "metadata": {},
   "outputs": [
    {
     "name": "stdout",
     "output_type": "stream",
     "text": [
      "1,2,3,"
     ]
    }
   ],
   "source": [
    "bar = [1,2,3]\n",
    "for elem in bar\n",
    "    print( elem, ',' )\n",
    "end"
   ]
  },
  {
   "cell_type": "markdown",
   "id": "2eeb37ae-ea34-400b-a5bb-aec22d9563b2",
   "metadata": {},
   "source": [
    "# Scope"
   ]
  },
  {
   "cell_type": "code",
   "execution_count": 4,
   "id": "b9ba5192-e6b6-431c-aae8-f2ba6c9db198",
   "metadata": {},
   "outputs": [
    {
     "name": "stdout",
     "output_type": "stream",
     "text": [
      "1"
     ]
    }
   ],
   "source": [
    "if true\n",
    "    a = 1\n",
    "else\n",
    "    a = 2\n",
    "end\n",
    "print(a)"
   ]
  },
  {
   "cell_type": "markdown",
   "id": "1ad29c83-7537-474c-97c1-c5e12ba76c74",
   "metadata": {},
   "source": [
    "# Arrays"
   ]
  },
  {
   "cell_type": "code",
   "execution_count": 11,
   "id": "f8058f96-eafc-41a4-bef2-3aaa2fdd8ede",
   "metadata": {},
   "outputs": [
    {
     "data": {
      "text/plain": [
       "4-element Vector{Int64}:\n",
       " 4\n",
       " 4\n",
       " 4\n",
       " 4"
      ]
     },
     "execution_count": 11,
     "metadata": {},
     "output_type": "execute_result"
    }
   ],
   "source": [
    "repeat([4],4)"
   ]
  },
  {
   "cell_type": "code",
   "execution_count": null,
   "id": "6c19d836-f579-4c1a-a2fb-588c70b5861d",
   "metadata": {},
   "outputs": [],
   "source": []
  }
 ],
 "metadata": {
  "kernelspec": {
   "display_name": "Julia 1.7.3",
   "language": "julia",
   "name": "julia-1.7"
  },
  "language_info": {
   "file_extension": ".jl",
   "mimetype": "application/julia",
   "name": "julia",
   "version": "1.7.3"
  }
 },
 "nbformat": 4,
 "nbformat_minor": 5
}
