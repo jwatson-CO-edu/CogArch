{
 "cells": [
  {
   "cell_type": "markdown",
   "id": "9c2da589-4a8e-493d-9d15-d6c49fc84ced",
   "metadata": {},
   "source": [
    "# Arrays & Matrices"
   ]
  },
  {
   "cell_type": "code",
   "execution_count": 1,
   "id": "cd9ba51c-fa6a-440e-99ba-2672fc4575c6",
   "metadata": {},
   "outputs": [
    {
     "data": {
      "text/plain": [
       "4"
      ]
     },
     "execution_count": 1,
     "metadata": {},
     "output_type": "execute_result"
    }
   ],
   "source": [
    "A = [ 1 2 3 4 ;\n",
    "      5 6 7 8 ]\n",
    "\n",
    "B = (1, )\n",
    "\n",
    "C = 4"
   ]
  },
  {
   "cell_type": "code",
   "execution_count": 2,
   "id": "06b66852-fcaf-4ff2-9442-b1460f45fc8c",
   "metadata": {},
   "outputs": [
    {
     "data": {
      "text/plain": [
       "(2, 4)"
      ]
     },
     "execution_count": 2,
     "metadata": {},
     "output_type": "execute_result"
    }
   ],
   "source": [
    "size( A )"
   ]
  },
  {
   "cell_type": "code",
   "execution_count": 3,
   "id": "a9628218-5c24-497e-bbb4-d4b51ff39813",
   "metadata": {},
   "outputs": [],
   "source": [
    "# size( B )"
   ]
  },
  {
   "cell_type": "code",
   "execution_count": 4,
   "id": "18609ca6-14b3-4199-9696-cfaeeedf6dc3",
   "metadata": {},
   "outputs": [
    {
     "data": {
      "text/plain": [
       "()"
      ]
     },
     "execution_count": 4,
     "metadata": {},
     "output_type": "execute_result"
    }
   ],
   "source": [
    "size( C )"
   ]
  },
  {
   "cell_type": "code",
   "execution_count": 5,
   "id": "cc941922-739b-4ea0-ba78-e0a240ac6265",
   "metadata": {},
   "outputs": [
    {
     "data": {
      "text/plain": [
       "Matrix{Int64} (alias for Array{Int64, 2})"
      ]
     },
     "execution_count": 5,
     "metadata": {},
     "output_type": "execute_result"
    }
   ],
   "source": [
    "typeof( A )"
   ]
  },
  {
   "cell_type": "code",
   "execution_count": 6,
   "id": "39a01b2e-0e09-4f6f-94b7-3771d14a5d32",
   "metadata": {},
   "outputs": [
    {
     "data": {
      "text/plain": [
       "Tuple{Int64}"
      ]
     },
     "execution_count": 6,
     "metadata": {},
     "output_type": "execute_result"
    }
   ],
   "source": [
    "typeof( B )"
   ]
  },
  {
   "cell_type": "code",
   "execution_count": 7,
   "id": "b1678acf-a959-4ef1-9079-ab97dac353c2",
   "metadata": {},
   "outputs": [
    {
     "data": {
      "text/plain": [
       "Int64"
      ]
     },
     "execution_count": 7,
     "metadata": {},
     "output_type": "execute_result"
    }
   ],
   "source": [
    "typeof( C )"
   ]
  },
  {
   "cell_type": "code",
   "execution_count": 8,
   "id": "0a5cc6bc-bad0-4064-94ca-233fe852fe3c",
   "metadata": {},
   "outputs": [
    {
     "data": {
      "text/plain": [
       "false"
      ]
     },
     "execution_count": 8,
     "metadata": {},
     "output_type": "execute_result"
    }
   ],
   "source": [
    "typeof( A ) == Matrix{Any}"
   ]
  },
  {
   "cell_type": "code",
   "execution_count": 9,
   "id": "2532d077-efbe-442a-af0b-50341c9b9bf4",
   "metadata": {},
   "outputs": [
    {
     "data": {
      "text/plain": [
       "AbstractMatrix{Int64} (alias for AbstractArray{Int64, 2})"
      ]
     },
     "execution_count": 9,
     "metadata": {},
     "output_type": "execute_result"
    }
   ],
   "source": [
    "supertype( supertype( typeof( A ) ) )"
   ]
  },
  {
   "cell_type": "code",
   "execution_count": 10,
   "id": "abf3c766-1d23-47d5-8d96-d5aeb95eeae1",
   "metadata": {},
   "outputs": [
    {
     "data": {
      "text/plain": [
       "3-element Vector{Int64}:\n",
       " 3\n",
       " 3\n",
       " 3"
      ]
     },
     "execution_count": 10,
     "metadata": {},
     "output_type": "execute_result"
    }
   ],
   "source": [
    "vec1 = [1,2,3]\n",
    "vec2 = [4,5,6]\n",
    "broadcast(abs, vec1 - vec2)"
   ]
  },
  {
   "cell_type": "code",
   "execution_count": 7,
   "id": "54f4db2d-593d-4f37-a12c-21cd740db68f",
   "metadata": {},
   "outputs": [
    {
     "data": {
      "text/plain": [
       "2-element Vector{Int64}:\n",
       " 1\n",
       " 2"
      ]
     },
     "metadata": {},
     "output_type": "display_data"
    },
    {
     "data": {
      "text/plain": [
       "2-element Vector{Int64}:\n",
       " 3\n",
       " 4"
      ]
     },
     "metadata": {},
     "output_type": "display_data"
    },
    {
     "data": {
      "text/plain": [
       "4"
      ]
     },
     "execution_count": 7,
     "metadata": {},
     "output_type": "execute_result"
    }
   ],
   "source": [
    "foo = [1 2 3 4];\n",
    "display( foo[1:2] )\n",
    "display( foo[3:4] )\n",
    "max( size( zeros(4) )... )"
   ]
  },
  {
   "cell_type": "code",
   "execution_count": 1,
   "id": "fdbf788c-e565-4689-a590-8fe14666dd7a",
   "metadata": {},
   "outputs": [
    {
     "data": {
      "text/plain": [
       "4×2 Matrix{Float64}:\n",
       " -2.0  2.0\n",
       " -2.0  2.0\n",
       " -0.5  0.5\n",
       " -0.5  0.5"
      ]
     },
     "metadata": {},
     "output_type": "display_data"
    }
   ],
   "source": [
    "_X_DOMAIN = [-2.0 +2.0; -2.0 +2.0]\n",
    "_A_DOMAIN = [-0.5 +0.5; -0.5 +0.5]\n",
    "_Q_DOMAIN = [_X_DOMAIN; _A_DOMAIN]\n",
    "display( _Q_DOMAIN )"
   ]
  },
  {
   "cell_type": "code",
   "execution_count": 3,
   "id": "24c4ba55-2eac-4cb6-8b32-1fc245d8de87",
   "metadata": {},
   "outputs": [
    {
     "data": {
      "text/plain": [
       "625"
      ]
     },
     "execution_count": 3,
     "metadata": {},
     "output_type": "execute_result"
    }
   ],
   "source": [
    "5^4"
   ]
  },
  {
   "cell_type": "code",
   "execution_count": 4,
   "id": "869daa84-951c-4930-b62f-24ea4bed35b1",
   "metadata": {},
   "outputs": [
    {
     "data": {
      "text/plain": [
       "3×3 Matrix{Bool}:\n",
       " 1  0  0\n",
       " 0  1  0\n",
       " 0  0  1"
      ]
     },
     "metadata": {},
     "output_type": "display_data"
    },
    {
     "data": {
      "text/plain": [
       "3×3 Matrix{Float64}:\n",
       " 0.0  0.0  0.0\n",
       " 0.0  0.0  0.0\n",
       " 0.0  0.0  0.0"
      ]
     },
     "metadata": {},
     "output_type": "display_data"
    }
   ],
   "source": [
    "using LinearAlgebra;\n",
    "\n",
    "foo = zeros( (3,3,) );\n",
    "\n",
    "function make_ID( matx )\n",
    "    matx = Matrix(I, 3, 3)\n",
    "    display( matx )\n",
    "end\n",
    "\n",
    "make_ID( foo )\n",
    "\n",
    "display( foo )"
   ]
  },
  {
   "cell_type": "code",
   "execution_count": 2,
   "id": "2366aa93-d480-463e-805d-0a75b000d8dc",
   "metadata": {},
   "outputs": [
    {
     "data": {
      "text/plain": [
       "3-element Vector{Float64}:\n",
       " 1.75\n",
       " 1.75\n",
       " 1.75"
      ]
     },
     "execution_count": 2,
     "metadata": {},
     "output_type": "execute_result"
    }
   ],
   "source": [
    "\"\"\"\n",
    "Blend two vectors by element\n",
    "\"\"\"\n",
    "function blend_alpha_of_A_into_B( alpha, A, B )\n",
    "    return A*alpha + B*(1.0 - alpha)\n",
    "end\n",
    "\n",
    "A = [ 4, 4, 4 ]\n",
    "B = [ 1, 1, 1 ]\n",
    "\n",
    "blend_alpha_of_A_into_B( 0.25, A, B )\n"
   ]
  },
  {
   "cell_type": "markdown",
   "id": "e2eb26f7-2039-4471-aec6-1609b2c40dae",
   "metadata": {},
   "source": [
    "# Structs"
   ]
  },
  {
   "cell_type": "markdown",
   "id": "94b3132b-ac5d-4633-9b95-790f2c08d4e9",
   "metadata": {},
   "source": [
    "## Struct Methods"
   ]
  },
  {
   "cell_type": "code",
   "execution_count": 11,
   "id": "2cc190fc-3c29-4f6c-9f69-9aa232fdae9c",
   "metadata": {},
   "outputs": [],
   "source": [
    "\"\"\"\n",
    "Demonstrates member functions (methods)\n",
    "\"\"\"\n",
    "mutable struct TinyStruct\n",
    "    x::Float64 # ------ Operand 1\n",
    "    y::Float64 # ------ Operand 2\n",
    "    get_sum::Function # Summation method\n",
    "    TinyStruct( x_, y_ ) = (\n",
    "        TS = new();\n",
    "        TS.x = x_;\n",
    "        TS.y = y_;\n",
    "        TS.get_sum = function ()\n",
    "            return TS.x + TS.y;\n",
    "        end;\n",
    "        return TS;\n",
    "    );\n",
    "end"
   ]
  },
  {
   "cell_type": "code",
   "execution_count": 12,
   "id": "ec4c3d37-bd38-4bfe-893d-17ca4e5cf9a9",
   "metadata": {},
   "outputs": [
    {
     "data": {
      "text/plain": [
       "5.0"
      ]
     },
     "execution_count": 12,
     "metadata": {},
     "output_type": "execute_result"
    }
   ],
   "source": [
    "ts = TinyStruct(2,3)\n",
    "ts.get_sum()"
   ]
  },
  {
   "cell_type": "code",
   "execution_count": null,
   "id": "a4ca40b3-c2ea-4dd7-aa05-bf366cdbfe4e",
   "metadata": {},
   "outputs": [],
   "source": []
  }
 ],
 "metadata": {
  "kernelspec": {
   "display_name": "Julia 1.7.3",
   "language": "julia",
   "name": "julia-1.7"
  },
  "language_info": {
   "file_extension": ".jl",
   "mimetype": "application/julia",
   "name": "julia",
   "version": "1.7.3"
  }
 },
 "nbformat": 4,
 "nbformat_minor": 5
}
