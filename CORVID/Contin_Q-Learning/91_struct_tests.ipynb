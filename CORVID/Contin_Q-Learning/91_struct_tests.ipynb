{
 "cells": [
  {
   "cell_type": "markdown",
   "id": "e7247e33-79ab-461b-900d-a241a8e22282",
   "metadata": {},
   "source": [
    "# Init"
   ]
  },
  {
   "cell_type": "code",
   "execution_count": 1,
   "id": "0c469c26-12f2-46fd-8260-11a26ec54825",
   "metadata": {},
   "outputs": [],
   "source": [
    "using LinearAlgebra\n",
    "using NearestNeighbors\n",
    "using StaticArrays"
   ]
  },
  {
   "cell_type": "markdown",
   "id": "3cf8c5b2-dd49-41b6-ba1c-b1e5dc208b4c",
   "metadata": {
    "tags": []
   },
   "source": [
    "# Types\n",
    "#### $m$: Dimensionality of each point (rows)  \n",
    "#### $n$: Total number of points (cols)"
   ]
  },
  {
   "cell_type": "code",
   "execution_count": 3,
   "id": "ca4c84c0-2892-428e-a201-9ae9c79112b0",
   "metadata": {},
   "outputs": [
    {
     "data": {
      "text/plain": [
       "QStore"
      ]
     },
     "execution_count": 3,
     "metadata": {},
     "output_type": "execute_result"
    }
   ],
   "source": [
    "\"\"\"\n",
    "Container struct of points, their values, bookkeeping, and spatial trees\n",
    "mutable: Partially initialized and filled in later\n",
    "\"\"\"\n",
    "mutable struct QStore\n",
    "    pnts::Matrix{ Float64 }\n",
    "    vals::Array{ Float64 }\n",
    "    mDim\n",
    "    nPts\n",
    "    kdTree\n",
    "    blTree\n",
    "    _DEBUG \n",
    "    QStore( mDim, nPts ) = (\n",
    "        x = new(); # Create an object for partial initialization\n",
    "        x.pnts   = zeros(Float64, mDim, nPts); # Interpolation anchors\n",
    "        x.vals   = zeros(Float64,       nPts); # Values at anchors\n",
    "        x.mDim   = mDim; # --------------------- Dimensionality of anchors \n",
    "        x.nPts   = nPts; # --------------------- Number of anchors\n",
    "        x.kdTree = nothing; # ------------------ kD-Tree storage\n",
    "        x.blTree = nothing; # ------------------ Ball Tree storage\n",
    "        x._DEBUG = true; # --------------------- Debug Flag\n",
    "        if x._DEBUG\n",
    "            println( \"Created `QStore` with \", x.mDim, \" dimensions and \", x.nPts, \" points!\" );\n",
    "        end;\n",
    "        return x\n",
    "    );\n",
    "end"
   ]
  },
  {
   "cell_type": "code",
   "execution_count": 4,
   "id": "98655180-8cb8-40e5-b923-1a1dcb9b9312",
   "metadata": {},
   "outputs": [
    {
     "data": {
      "text/plain": [
       "fetch_by_indices (generic function with 1 method)"
      ]
     },
     "execution_count": 4,
     "metadata": {},
     "output_type": "execute_result"
    }
   ],
   "source": [
    "function fetch_by_indices( qSto::QStore, idxList )\n",
    "    N = size( idxList, 1 )\n",
    "    p = []\n",
    "    v = []\n",
    "    for i = 1:N\n",
    "        append!( p, qSto.pnts )\n",
    "        append!( v, qSto.vals )\n",
    "    end\n",
    "    return p, v\n",
    "end"
   ]
  },
  {
   "cell_type": "code",
   "execution_count": 5,
   "id": "a254763d-56fe-44ed-bc28-33f82973097a",
   "metadata": {},
   "outputs": [
    {
     "data": {
      "text/plain": [
       "load_QStore_with_true_values"
      ]
     },
     "execution_count": 5,
     "metadata": {},
     "output_type": "execute_result"
    }
   ],
   "source": [
    "\"\"\"\n",
    "Use `truthFunc` to load the correct values for each anchor in `qSto`\n",
    "NOTE: This function assumes that `truthFunc` has the same `mDim` as `truthFunc`\n",
    "\"\"\"\n",
    "function load_QStore_with_true_values( qSto::QStore, truthFunc )\n",
    "    # For every column of stored points, compute the truth value\n",
    "    for j in 1:qSto.nPts\n",
    "        qSto.vals[j] = truthFunc( qSto.pnts[:,j] )\n",
    "    end\n",
    "end"
   ]
  },
  {
   "cell_type": "code",
   "execution_count": 8,
   "id": "cac2ce1d-bec1-4219-9966-6316b0a4d52c",
   "metadata": {},
   "outputs": [
    {
     "data": {
      "text/plain": [
       "sample_bbox_N"
      ]
     },
     "execution_count": 8,
     "metadata": {},
     "output_type": "execute_result"
    }
   ],
   "source": [
    "include(\"utils.jl\") "
   ]
  },
  {
   "cell_type": "code",
   "execution_count": 9,
   "id": "6ddb2424-0451-4ecd-9376-7bcb1f179df6",
   "metadata": {},
   "outputs": [
    {
     "data": {
      "text/plain": [
       "#5 (generic function with 1 method)"
      ]
     },
     "execution_count": 9,
     "metadata": {},
     "output_type": "execute_result"
    }
   ],
   "source": [
    "\"\"\"\n",
    "Hyperplane with a uniform positive slope along all axes\n",
    "\"\"\"\n",
    "function get_nD_example_plane_eq( dims, slope )\n",
    "    factor = slope / dims\n",
    "    Y = repeat( [factor], dims )\n",
    "    return function( X )\n",
    "        dot( X, Y )\n",
    "    end\n",
    "end\n",
    "\n",
    "\"\"\"\n",
    "Cone of `height` that slopes downward from origin \n",
    "\"\"\"\n",
    "function get_nD_example_cone_eq( height, slope )\n",
    "    return function( X )\n",
    "        height - norm( X ) * slope\n",
    "    end\n",
    "end\n",
    "\n",
    "\"\"\"\n",
    "Hill of `height` that slopes downward from origin \n",
    "\"\"\"\n",
    "function get_nD_example_hill_eq( height, scale )\n",
    "    return function( X )\n",
    "        height * exp( -norm(X)/scale )\n",
    "    end\n",
    "end\n",
    "\n",
    "f1 = get_nD_example_plane_eq( 2, 1 )\n",
    "f2 = get_nD_example_cone_eq( 5, 1 )\n",
    "f3 = get_nD_example_hill_eq( 5, 2.5 )"
   ]
  },
  {
   "cell_type": "code",
   "execution_count": 11,
   "id": "03ec493c-c264-42e0-84ac-021644e21213",
   "metadata": {},
   "outputs": [
    {
     "name": "stdout",
     "output_type": "stream",
     "text": [
      "Created `QStore` with 2 dimensions and 441 points!\n"
     ]
    },
    {
     "ename": "LoadError",
     "evalue": "type QStore has no field load_QStore_with_true_values",
     "output_type": "error",
     "traceback": [
      "type QStore has no field load_QStore_with_true_values",
      "",
      "Stacktrace:",
      " [1] getproperty(x::QStore, f::Symbol)",
      "   @ Base ./Base.jl:42",
      " [2] top-level scope",
      "   @ In[11]:5",
      " [3] eval",
      "   @ ./boot.jl:373 [inlined]",
      " [4] include_string(mapexpr::typeof(REPL.softscope), mod::Module, code::String, filename::String)",
      "   @ Base ./loading.jl:1196"
     ]
    }
   ],
   "source": [
    "_DIMS = 2\n",
    "mesh  = regular_grid_pts_nD( [[-10,+10],[-10,+10]], [1,1] );\n",
    "qGrid = QStore( _DIMS, size( mesh )[2] );\n",
    "qGrid.pnts = copy( mesh );\n",
    "qGrid.load_QStore_with_true_values( f1 )"
   ]
  },
  {
   "cell_type": "markdown",
   "id": "ca3360b2-6a5d-443b-b7f3-f423ea837964",
   "metadata": {},
   "source": [
    "## Conclusion\n",
    "#### Julia does not use dot.notation as in `<object>.<method>`"
   ]
  },
  {
   "cell_type": "code",
   "execution_count": null,
   "id": "ac246763-63c6-4b86-ba4b-312b72c6c241",
   "metadata": {},
   "outputs": [],
   "source": []
  }
 ],
 "metadata": {
  "kernelspec": {
   "display_name": "Julia 1.7.3",
   "language": "julia",
   "name": "julia-1.7"
  },
  "language_info": {
   "file_extension": ".jl",
   "mimetype": "application/julia",
   "name": "julia",
   "version": "1.7.3"
  }
 },
 "nbformat": 4,
 "nbformat_minor": 5
}
