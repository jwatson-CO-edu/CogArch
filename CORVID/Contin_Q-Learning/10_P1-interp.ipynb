{
 "cells": [
  {
   "cell_type": "markdown",
   "id": "21dda682-0374-4c40-a0ce-5e061b933ccd",
   "metadata": {},
   "source": [
    "# Init"
   ]
  },
  {
   "cell_type": "code",
   "execution_count": 1,
   "id": "ba1c4f55-d401-4bc1-8e6b-a5642ff0b055",
   "metadata": {},
   "outputs": [],
   "source": [
    "using LinearAlgebra\n",
    "using NearestNeighbors\n",
    "using StaticArrays"
   ]
  },
  {
   "cell_type": "markdown",
   "id": "17ed405c-fc8b-4e7c-a94c-a93da6720195",
   "metadata": {},
   "source": [
    "# Utility Functions"
   ]
  },
  {
   "cell_type": "code",
   "execution_count": 2,
   "id": "32e62928-f009-4aa4-a709-2aa4d00eb7f2",
   "metadata": {},
   "outputs": [
    {
     "data": {
      "text/plain": [
       "regular_grid_pts_nD"
      ]
     },
     "execution_count": 2,
     "metadata": {},
     "output_type": "execute_result"
    }
   ],
   "source": [
    "########## RECTANGULAR GRIDS #######################################################################\n",
    "\"\"\"\n",
    "Get all possible combos of `tickLists` elements\n",
    "\"\"\"\n",
    "function regular_grid_helper( tickLists, i = 1, curVec = nothing, allPts = nothing )\n",
    "    mDim = size( tickLists, 1 )\n",
    "    \n",
    "    # If this is the root call, then create the return matrix\n",
    "    if allPts == nothing\n",
    "        nPts = 1\n",
    "        for tcs in tickLists\n",
    "            nPts *= size( tcs, 1 )\n",
    "        end\n",
    "        allPts = zeros(mDim, nPts)\n",
    "    end\n",
    "    \n",
    "    # If we are beginning a new vector\n",
    "    if curVec == nothing\n",
    "        curVec = []\n",
    "    end\n",
    "    \n",
    "    # Base Case: Last Tick Dimension\n",
    "    if mDim  == 1\n",
    "        for tick in tickLists[1]\n",
    "            nuVec       =  vcat(curVec, tick) \n",
    "            allPts[:,i] =  nuVec\n",
    "            i += 1\n",
    "        end\n",
    "        curVec = nothing\n",
    "    # Recursive Case\n",
    "    else\n",
    "        for tick in tickLists[1]\n",
    "            _, i = regular_grid_helper( tickLists[2:end], i , vcat(curVec,tick), allPts )\n",
    "        end\n",
    "    end\n",
    "    \n",
    "    return allPts, i\n",
    "end\n",
    "\n",
    "\n",
    "\"\"\"\n",
    "Return per-dim ticks of a regular grid of points across `rangeMatx` and `spacingArr` per-dim \n",
    "\"\"\"\n",
    "function get_nD_ticks( rangeMatx, spacingArr )\n",
    "    rtnTicks = []\n",
    "    mDim     = size( rangeMatx, 1 )\n",
    "    \n",
    "    # 1. Generate tick marks in each dimension\n",
    "    for j in 1:mDim \n",
    "        dimTicks = []\n",
    "        bgn      = rangeMatx[j,1]\n",
    "        stp      = rangeMatx[j,2]\n",
    "        k        = 1\n",
    "        append!( dimTicks, bgn )\n",
    "        while true\n",
    "            t_k = bgn + (k * spacingArr[j])\n",
    "            if t_k <= stp\n",
    "                append!( dimTicks, t_k )\n",
    "            else\n",
    "                break\n",
    "            end\n",
    "            k += 1\n",
    "        end\n",
    "        append!( rtnTicks, [dimTicks] )\n",
    "    end\n",
    "    return rtnTicks\n",
    "end\n",
    "\n",
    "\n",
    "\"\"\"\n",
    "Return a regular grid of points across `rangeMatx` and per-dim space according to `spacingArr`\n",
    "\"\"\"\n",
    "function regular_grid_pts_nD( rangeMatx, spacingArr )\n",
    "    tickLists = get_nD_ticks( rangeMatx, spacingArr )\n",
    "    arr, _ = regular_grid_helper( tickLists )\n",
    "    return arr\n",
    "end"
   ]
  },
  {
   "cell_type": "markdown",
   "id": "77934c48-31ca-4c59-b57d-63d61276d9bd",
   "metadata": {},
   "source": [
    "# kD Kernel"
   ]
  },
  {
   "cell_type": "code",
   "execution_count": 3,
   "id": "9b58a0bf-5f81-4f4d-91da-680f95012576",
   "metadata": {},
   "outputs": [
    {
     "name": "stdout",
     "output_type": "stream",
     "text": [
      "(2, 289)\n"
     ]
    }
   ],
   "source": [
    "_DIM_X    = 2\n",
    "_DIM_A    = 2\n",
    "_X_DOMAIN = [-2.0 +2.0; -2.0 +2.0]\n",
    "_A_DOMAIN = [-0.5 +0.5; -0.5 +0.5]\n",
    "_Q_DOMAIN = [_X_DOMAIN; _A_DOMAIN]\n",
    "_LEAFLEN  = 10\n",
    "\n",
    "anchors = regular_grid_pts_nD( _X_DOMAIN, [0.25,0.25] );\n",
    "\n",
    "nPts = size( anchors )[2]; # - Number of anchors\n",
    "mDim = size( anchors )[1]; # - Dimensionality of anchors \n",
    "pnts = copy( anchors ); # ---- Interpolation anchors\n",
    "vals = zeros(Float64, nPts); # Values at anchors\n",
    "        \n",
    "println( size( anchors ) )"
   ]
  },
  {
   "cell_type": "code",
   "execution_count": 4,
   "id": "1bd30290-ad7d-48c3-8257-16b7f7873de4",
   "metadata": {},
   "outputs": [],
   "source": [
    "Q_kdTree = KDTree( pnts            ; leafsize = _LEAFLEN, reorder = false ); # Vals must remain assoc w pnts!\n",
    "\n",
    "# println( pnts[1:_DIM_X,11] ) # Check X slice order\n",
    "# println( pnts[1:_DIM_X,23] )\n",
    "# println( pnts[1:_DIM_X,35] )\n",
    "\n",
    "# X_kdTree = KDTree( pnts[1:_DIM_X,:]; leafsize = _LEAFLEN, reorder = false ); # Prohibit slice reorder\n",
    "\n",
    "# println( pnts[1:_DIM_X,11] ) # Check X slice consistent \n",
    "# println( pnts[1:_DIM_X,23] )\n",
    "# println( pnts[1:_DIM_X,35] )"
   ]
  },
  {
   "cell_type": "code",
   "execution_count": 5,
   "id": "2eec4db7-2d02-42d7-a974-46be4b1d6485",
   "metadata": {},
   "outputs": [
    {
     "data": {
      "text/plain": [
       "val_weighted_avg"
      ]
     },
     "execution_count": 5,
     "metadata": {},
     "output_type": "execute_result"
    }
   ],
   "source": [
    "\"\"\"\n",
    "Return the anchors and values associated with the `idxList`\n",
    "\"\"\"\n",
    "function fetch_by_indices( pnts, vals, idxList )\n",
    "    N = size( idxList, 1 ) # -------- How many queries are there?\n",
    "    p = zeros( size( pnts, 1 ), N ) # Allocate points\n",
    "    v = zeros( N ) # ---------------- Allocate values\n",
    "    for i = 1:N\n",
    "        j = idxList[i]\n",
    "        p[:,i] = pnts[:,j]\n",
    "        v[i]   = vals[j]\n",
    "    end\n",
    "    return p, v\n",
    "end\n",
    "\n",
    "\"\"\"\n",
    "Compute a weighted average value from `vals`, `wgts`\n",
    "NOTE: This function assumes that the scalar elements of `wgts` sum to 1.0\n",
    "\"\"\"\n",
    "function val_weighted_avg( vals, wgts )\n",
    "    nPts = size( vals, 1 )\n",
    "    r    = 0.0\n",
    "    for j in 1:nPts\n",
    "        v = vals[j]\n",
    "        w = wgts[j]\n",
    "        r += (w * v)\n",
    "    end\n",
    "    return r\n",
    "end"
   ]
  },
  {
   "cell_type": "code",
   "execution_count": 6,
   "id": "3fad8d95-a896-4410-b27c-30e316c7ae08",
   "metadata": {},
   "outputs": [
    {
     "data": {
      "text/plain": [
       "query_value_w_knn"
      ]
     },
     "execution_count": 6,
     "metadata": {},
     "output_type": "execute_result"
    }
   ],
   "source": [
    "##### k Nearest Neighbors #####\n",
    "\n",
    "\"\"\"\n",
    "Return the indices and weights of the `k` nearest neighbors\n",
    "NOTE: This function assumes that you have already built a kD-Tree and cached it in the `QStore`\n",
    "\"\"\"\n",
    "function K_kNN( kdTree, q; k = 6 )\n",
    "    factor      = 1.0/k\n",
    "    idxs, dists = knn( kdTree, q, k )\n",
    "    return idxs, repeat( [factor], k )\n",
    "end\n",
    "\n",
    "\n",
    "\"\"\"\n",
    "Use k Nearest Neighbors of `q` to retrive value from a `QStore`\n",
    "\"\"\"\n",
    "function query_value_w_knn( kdTree, pnts, vals, q; k = 6 )\n",
    "    idxs, wgts = K_kNN( kdTree, q; k = k )\n",
    "    p_  , v_   = fetch_by_indices( pnts, vals, idxs )\n",
    "    return val_weighted_avg( v_, wgts )\n",
    "end"
   ]
  },
  {
   "cell_type": "code",
   "execution_count": 7,
   "id": "7bd3097a-6b6e-4ead-a11a-86f2229d9f18",
   "metadata": {},
   "outputs": [
    {
     "data": {
      "text/plain": [
       "get_nD_example_hill_eq"
      ]
     },
     "execution_count": 7,
     "metadata": {},
     "output_type": "execute_result"
    }
   ],
   "source": [
    "########## TESTING FUNCTIONS #######################################################################\n",
    "\n",
    "\"\"\"\n",
    "Hyperplane with a uniform positive slope along all axes\n",
    "\"\"\"\n",
    "function get_nD_example_plane_eq( dims, slope )\n",
    "    factor = slope / dims\n",
    "    Y = repeat( [factor], dims )\n",
    "    return function( X )\n",
    "        dot( X, Y )\n",
    "    end\n",
    "end\n",
    "\n",
    "\n",
    "\"\"\"\n",
    "Cone of `height` that slopes downward from origin \n",
    "\"\"\"\n",
    "function get_nD_example_cone_eq( height, slope )\n",
    "    return function( X )\n",
    "        height - norm( X ) * slope\n",
    "    end\n",
    "end\n",
    "\n",
    "\n",
    "\"\"\"\n",
    "Hill of `height` that slopes downward from origin \n",
    "\"\"\"\n",
    "function get_nD_example_hill_eq( height, scale )\n",
    "    return function( X )\n",
    "        height * exp( -norm(X)/scale )\n",
    "    end\n",
    "end"
   ]
  },
  {
   "cell_type": "code",
   "execution_count": 8,
   "id": "d87ca93f-f522-4908-bcbc-e7ed9499d106",
   "metadata": {},
   "outputs": [
    {
     "data": {
      "text/plain": [
       "assoc_pnts_with_true_values"
      ]
     },
     "execution_count": 8,
     "metadata": {},
     "output_type": "execute_result"
    }
   ],
   "source": [
    "\"\"\"\n",
    "Use `truthFunc` to load the correct values for each anchor in `qSto`\n",
    "NOTE: This function assumes that `truthFunc` has the same `mDim` as `truthFunc`\n",
    "\"\"\"\n",
    "function assoc_pnts_with_true_values( pnts, vals, truthFunc )\n",
    "    # For every column of stored points, compute the truth value\n",
    "    nPts = size( pnts, 2 )\n",
    "    for j in 1:nPts\n",
    "        vals[j] = truthFunc( pnts[:,j] )\n",
    "    end\n",
    "end"
   ]
  },
  {
   "cell_type": "code",
   "execution_count": 9,
   "id": "df55e093-ddfa-478f-a666-ea7a1f556339",
   "metadata": {},
   "outputs": [
    {
     "data": {
      "text/plain": [
       "sample_bbox_N"
      ]
     },
     "execution_count": 9,
     "metadata": {},
     "output_type": "execute_result"
    }
   ],
   "source": [
    "########## UNIFORM SAMPLING ########################################################################\n",
    "\n",
    "\"\"\"\n",
    "Sample from a uniform distribution [ rMin , rMax )\n",
    "\"\"\"\n",
    "function sample_uniform_real( rMin , rMax )\n",
    "    span = abs( rMax - rMin )\n",
    "    return span*rand() + rMin\n",
    "end\n",
    "\n",
    "\n",
    "\"\"\"\n",
    "Sample uniformly from a hypercuboid `bbox`\n",
    "\"\"\"\n",
    "function sample_bbox_uniform( bbox )\n",
    "    mDim   = size( bbox, 1 )\n",
    "    rtnArr = zeros( mDim )\n",
    "    # print( mDim, ' ', rtnArr )\n",
    "    # display( bbox )\n",
    "    for i = 1:mDim\n",
    "        rMin = bbox[i,1]\n",
    "        # println( \"rMin:\", rMin )\n",
    "        rMax = bbox[i,2]\n",
    "        # println( \"rMax:\", rMax )\n",
    "        rtnArr[i] = sample_uniform_real( rMin , rMax )\n",
    "    end\n",
    "    return rtnArr\n",
    "end\n",
    "\n",
    "\n",
    "\"\"\"\n",
    "Draw `N` samples uniformly from a hypercuboid `bbox`\n",
    "\"\"\"\n",
    "function sample_bbox_N( bbox, N )\n",
    "    mDim   = size( bbox, 1 )\n",
    "    rtnArr = zeros( mDim, N )\n",
    "    for j = 1:N\n",
    "        rtnArr[:,j] = sample_bbox_uniform( bbox )\n",
    "    end\n",
    "    return rtnArr\n",
    "end"
   ]
  },
  {
   "cell_type": "code",
   "execution_count": 10,
   "id": "39dbeebd-629b-492c-8fac-01e2ac04d540",
   "metadata": {},
   "outputs": [
    {
     "data": {
      "text/plain": [
       "1.8333333333333333"
      ]
     },
     "metadata": {},
     "output_type": "display_data"
    }
   ],
   "source": [
    "truthFunc = get_nD_example_plane_eq( _DIM_X, 1 )\n",
    "assoc_pnts_with_true_values( pnts, vals, truthFunc )\n",
    "display( query_value_w_knn( Q_kdTree, pnts, vals, [2; 2;]; k = 6 ) )"
   ]
  },
  {
   "cell_type": "code",
   "execution_count": 11,
   "id": "a3d3ebfb-901f-4edf-bc78-f5e74251f3cf",
   "metadata": {},
   "outputs": [
    {
     "name": "stdout",
     "output_type": "stream",
     "text": [
      "Average error for knn kernel on plane: 0.023768380965618584\n"
     ]
    }
   ],
   "source": [
    "bbox = _X_DOMAIN\n",
    "N    = 50\n",
    "smpl = sample_bbox_N( bbox, N )\n",
    "err  = 0.0\n",
    "\n",
    "for j = 1:N\n",
    "    smp = smpl[:,j]\n",
    "    est = query_value_w_knn( Q_kdTree, pnts, vals, smp; k = 3 )\n",
    "    tru = truthFunc( smp )\n",
    "    err += abs( est - tru )\n",
    "end\n",
    "\n",
    "println( \"Average error for knn kernel on plane: \", err/N )"
   ]
  },
  {
   "cell_type": "markdown",
   "id": "8e8e736e-2569-4aec-97c9-dbd251573314",
   "metadata": {},
   "source": [
    "## Radius Kernel"
   ]
  },
  {
   "cell_type": "code",
   "execution_count": 12,
   "id": "421fae96-39e4-4ca2-870f-12560f192c92",
   "metadata": {},
   "outputs": [
    {
     "data": {
      "text/plain": [
       "query_store_w_radius"
      ]
     },
     "execution_count": 12,
     "metadata": {},
     "output_type": "execute_result"
    }
   ],
   "source": [
    "##### Fixed Radius #####\n",
    "\n",
    "\"\"\"\n",
    "Return the indices and weights of the neighbors within `rad` of `d`\n",
    "NOTE: This function assumes that you have already built a Ball Tree and cached it in the `QStore`\n",
    "\"\"\"\n",
    "function K_fixed_rad( blTree, q; rad = 1.0 )\n",
    "    idxs     = inrange( blTree, q, rad )\n",
    "    n        = size( idxs, 1 )\n",
    "    factor   = 1.0/n\n",
    "    return idxs, repeat( [factor], n )\n",
    "end\n",
    "\n",
    "\n",
    "\"\"\"\n",
    "Use a ball within `radius` of `q` to retrive value from a `QStore`\n",
    "\"\"\"\n",
    "function query_store_w_radius( blTree, pnts, vals, q; radius = 1.0 )\n",
    "    idxs, wgts = K_fixed_rad( blTree, q; rad = radius )\n",
    "    p_  , v_   = fetch_by_indices( pnts, vals, idxs )\n",
    "    return val_weighted_avg( v_, wgts )\n",
    "end"
   ]
  },
  {
   "cell_type": "code",
   "execution_count": 13,
   "id": "eb4fe780-ca24-4f04-bfb4-7ba1bd291b7b",
   "metadata": {},
   "outputs": [],
   "source": [
    "Q_blTree = BallTree( pnts             ); # Vals must remain assoc w pnts!\n",
    "# X_blTree = BallTree( pnts[1:_DIM_X,:] ); # Prohibit slice reorder"
   ]
  },
  {
   "cell_type": "code",
   "execution_count": 14,
   "id": "664acec1-04fc-4dbc-a8b1-22c7dff46bff",
   "metadata": {},
   "outputs": [
    {
     "name": "stdout",
     "output_type": "stream",
     "text": [
      "Average error for knn kernel on plane: 0.06471225586396001\n"
     ]
    }
   ],
   "source": [
    "bbox = _X_DOMAIN\n",
    "N    = 50\n",
    "smpl = sample_bbox_N( bbox, N )\n",
    "err  = 0.0\n",
    "\n",
    "for j = 1:N\n",
    "    smp = smpl[:,j]\n",
    "    est = query_store_w_radius( Q_blTree, pnts, vals, smp; radius = 1.0 )\n",
    "    tru = truthFunc( smp )\n",
    "    err += abs( est - tru )\n",
    "end\n",
    "\n",
    "println( \"Average error for knn kernel on plane: \", err/N )"
   ]
  },
  {
   "cell_type": "markdown",
   "id": "35910b01-9873-450a-a2f9-e29d75e25a27",
   "metadata": {},
   "source": [
    "## Gaussian Kernel"
   ]
  },
  {
   "cell_type": "code",
   "execution_count": 15,
   "id": "e9a55ed4-5f32-46b3-8c14-d60451d70cc2",
   "metadata": {},
   "outputs": [
    {
     "data": {
      "text/plain": [
       "query_value_w_gauss"
      ]
     },
     "execution_count": 15,
     "metadata": {},
     "output_type": "execute_result"
    }
   ],
   "source": [
    "##### (Truncated) Gaussian Kernel #####\n",
    "\n",
    "\n",
    "\"\"\"\n",
    "Used by the Gaussian Kernel\n",
    "\"\"\"\n",
    "function gaussian( s )\n",
    "    exp( -s^2 / 2.0 )\n",
    "end\n",
    "\n",
    "\n",
    "\"\"\"\n",
    "Return the indices and weights of the neighbors chosen by the Truncated Gaussian Function\n",
    "\"\"\"\n",
    "# FIXME: REWRITE SO THAT IT ONLY SEARCHES WITHIN A RADIUS!!!\n",
    "\n",
    "function K_trunc_Gauss( pnts, q; h = 1.0, lim = 1.0 )\n",
    "    idxs = [] # ------------ Index associated with each weight\n",
    "    wght = [] # ------------ The weight of each index\n",
    "    totl = 0.0 # ----------- Total of all distance calcs\n",
    "    nPts = size( pnts, 2 ) # Total number of points/anchors\n",
    "    \n",
    "    # For each anchor point in our collection\n",
    "    for j in 1:nPts\n",
    "        pnt = pnts[:,j] # Fetch point\n",
    "        s_j = norm(q-pnt)/h #- Compute the distance from the query\n",
    "        # If the distance is equal to or less than the distance limit, then consider an applicable point\n",
    "        if s_j <= lim\n",
    "            g_j = gaussian( s_j ) # Compute Gaussian distance\n",
    "            append!( idxs, j   ) #- Store index\n",
    "            append!( wght, g_j ) #- Store distance\n",
    "            totl += g_j # --------- Sum distance\n",
    "        end\n",
    "    end\n",
    "    wght ./= totl # Normalize the weights (MUST sum to 1.0)\n",
    "    return idxs, wght # Return applicable points and their weights\n",
    "end\n",
    "\n",
    "\n",
    "\"\"\"\n",
    "Use a Gaussian kernel centered on `q` to retrive value from a `QStore`\n",
    "\"\"\"\n",
    "function query_value_w_gauss( pnts, vals, q; h = 1.0, lim = 1.0 )\n",
    "    idxs, wgts = K_trunc_Gauss( pnts, q; h = h, lim = lim )\n",
    "    p_  , v_   = fetch_by_indices( pnts, vals, idxs )\n",
    "    return val_weighted_avg( v_, wgts )\n",
    "end"
   ]
  },
  {
   "cell_type": "code",
   "execution_count": 16,
   "id": "72f94d74-f04a-4e0d-a3d9-b852f9424574",
   "metadata": {},
   "outputs": [
    {
     "name": "stdout",
     "output_type": "stream",
     "text": [
      "Average error for radius kernel on hill: 0.05710057574777812\n"
     ]
    }
   ],
   "source": [
    "err  = 0.0\n",
    "\n",
    "for j = 1:N\n",
    "    smp = smpl[:,j]\n",
    "    est = query_value_w_gauss( pnts, vals, smp )\n",
    "    tru = truthFunc( smp )\n",
    "    err += abs( est - tru )\n",
    "end\n",
    "\n",
    "println( \"Average error for radius kernel on hill: \", err/N )"
   ]
  },
  {
   "cell_type": "code",
   "execution_count": null,
   "id": "67c0d480-39ce-47fe-bcda-012e7e170ff3",
   "metadata": {},
   "outputs": [],
   "source": []
  }
 ],
 "metadata": {
  "kernelspec": {
   "display_name": "Julia 1.7.3",
   "language": "julia",
   "name": "julia-1.7"
  },
  "language_info": {
   "file_extension": ".jl",
   "mimetype": "application/julia",
   "name": "julia",
   "version": "1.7.3"
  }
 },
 "nbformat": 4,
 "nbformat_minor": 5
}
